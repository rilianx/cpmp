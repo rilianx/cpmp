{
 "cells": [
  {
   "cell_type": "code",
   "execution_count": 8,
   "metadata": {},
   "outputs": [],
   "source": [
    "#selector de columnas a desmantelar\n",
    "def SSRC(layout):\n",
    "    best_ev = 0; s_o=-1\n",
    "    for i in range(len(layout.stacks)):\n",
    "        if layout.is_sorted_stack(i) and Greedy.capacity(layout,i)<3*len(layout.stacks[i]): continue\n",
    "        \n",
    "        prom = sum(layout.stacks[i]) / len(layout.stacks[i]) \n",
    "        if layout.is_sorted_stack(i):\n",
    "            ev = 100000 - 1000*len(layout.stacks[i]) - prom\n",
    "        else:\n",
    "            ev = 100000 - 1000*len(layout.stacks[i]) + prom\n",
    "        \n",
    "\n",
    "        if ev > best_ev:\n",
    "            best_ev = ev\n",
    "            s_o = i\n",
    "    return s_o"
   ]
  },
  {
   "cell_type": "code",
   "execution_count": 75,
   "metadata": {},
   "outputs": [],
   "source": [
    "def SDpp(layout, s_o):\n",
    "    #Se calculan los ranks\n",
    "    rank = Greedy.get_ranks(layout.stacks[s_o])\n",
    "    n_elements = px.remove_until(layout.stacks[s_o])\n",
    "    \n",
    "    capac = Greedy.capacity(layout,s_o) # espacio libre\n",
    "    \n",
    "    ss_o = layout.stacks[s_o]\n",
    "    \n",
    "    fixed_elements = 0\n",
    "    if n_elements > 0: \n",
    "        fixed_elements = np.maximum(len(ss_o)-n_elements,0)\n",
    "\n",
    "    #eliminar de rank elementos bien colocados\n",
    "    while len(layout.stacks[s_o]) > 0: #fixed_elements:\n",
    "        top = Layout.gvalue(ss_o)\n",
    "        slack = capac-len(ss_o) # holgura\n",
    "        #print(rank[top])\n",
    "        s_d, xg = Layout.select_destination_stack (layout, s_o, max_pos=rank.index(top)+1+slack, rank=rank)\n",
    "        #print(s_o, layout.stacks)\n",
    "        pos = layout.H - len(layout.stacks[s_d])\n",
    "        if rank.index(top)+1 < pos - slack:  # rellenar stack s_d\n",
    "            #c=layout.stacks[s_o].pop(-1)\n",
    "            #print()\n",
    "            if verbose: \n",
    "                for s in layout.stacks: print(s)\n",
    "                print(\"fill_stack\")\n",
    "                print(s_d,(pos - slack) - rank.index(top)-1,s_o, rank)\n",
    "            success = Greedy.fill_stack(layout, s_d, (pos - slack) - (rank.index(top)+1), s_o, rank)\n",
    "            if not success: return False, rank\n",
    "            #layout.stacks[s_o].append(c)\n",
    "        capac -= 1\n",
    "        c = layout.move(s_o,s_d)\n",
    "        if xg: rank.remove(c)\n",
    "        if Layout.reachable_height(layout,s_o) >= layout.H: \n",
    "            for item in layout.stacks[s_o]: rank.remove(item)\n",
    "            return True, rank\n",
    "        \n",
    "     #Se quitan los contenedores que se mantuvieron en su lugar para que no tire error la siguiente funcion\n",
    "    for item in layout.stacks[s_o]: rank.remove(item)\n",
    "    return True, rank"
   ]
  },
  {
   "cell_type": "markdown",
   "metadata": {},
   "source": [
    "SFpp\n",
    "---\n",
    "\n",
    "Debería realizar un SF, priorizando los elementos (`rank`) que deberían ir en el stack original `s_d`.\n",
    "\n",
    "````\n",
    "while rank is not empty:\n",
    "    s_o, s_dd = SF() # se obtienen los stacks asociados a un SF\n",
    "    if s_d == s_dd: \n",
    "       if gvalue(s_dd) >= rank[0]: move(s_o, s_d)  #si stack coincide con original y el contenedor\n",
    "                                                   #es mayor o igual al primero del ranking, se realiza el movimiento\n",
    "       else: force_move(rank.pop(), s_d) #si no, se fuerza a mover siguiente contenedor del ranking (o mayor) a s_d\n",
    "    else:\n",
    "        move(s_o, s_dd)        #en caso de que SD no interfiera con el stack original, se realiza el movimiento y\n",
    "        rank.pop(gvalue(s_dd))         #contenedor de elimina de stack\n",
    "````\n",
    "\n"
   ]
  },
  {
   "cell_type": "code",
   "execution_count": 10,
   "metadata": {},
   "outputs": [],
   "source": [
    "import sys\n",
    "def SFpp(layout, s_d, rank):\n",
    "    ub = Layout.gvalue(layout.stacks[s_d])\n",
    "    conts = set()\n",
    "\n",
    "    for r in rank:\n",
    "        if r>ub: continue\n",
    "        if r in conts: \n",
    "            conts.remove(r)\n",
    "            continue\n",
    "        \n",
    "        while True:\n",
    "            c = -1\n",
    "            s, _ = Greedy.SF_move_(layout)\n",
    "            s_o = None; s_dd = None\n",
    "            if s != False: s_o, s_dd = s\n",
    "\n",
    "            if s != False and s_d == s_dd and layout.stacks[s_o][-1] >= r: \n",
    "                c = layout.move(s_o,s_d)\n",
    "                ub = c\n",
    "            elif s==False or s_d == s_dd: #force move               \n",
    "                if verbose==True:\n",
    "                    if s!=False: print(\"rank:\",r,\"  c:\",layout.stacks[s_o][-1], \"s_o, s_d:\",s_o,s_d)\n",
    "                    else: print(\"rank:\",r)\n",
    "                    \n",
    "                    print(layout.stacks)\n",
    "                ret = Greedy.search_highest(layout, r, ub, s_d) \n",
    "                if ret == None: ub = r-1; break\n",
    "                (s, pos) = ret\n",
    "\n",
    "                c, state = Greedy.force_move(layout, s, pos, s_d) \n",
    "                if state == \"failed\" and ub == r: print (\"NO DEBERIA\"); break # NO DEBERIA OCURRIR\n",
    "                ub = c\n",
    "            else:\n",
    "                c = layout.move(s_o, s_dd)\n",
    "\n",
    "            if len(layout.stacks[s_d]) == layout.H: return True\n",
    "            if len(layout.stacks[s_d]) == layout.H-1 and layout.full_stacks >= len(layout.stacks)-3: return True\n",
    "            \n",
    "            if c==r: break\n",
    "            conts.add(c)\n",
    "    return True\n",
    "        "
   ]
  },
  {
   "cell_type": "code",
   "execution_count": 11,
   "metadata": {},
   "outputs": [],
   "source": [
    "def solve(layout, limit=1000):    \n",
    "        Greedy.lazy_greedy(layout)\n",
    "\n",
    "        while layout.unsorted_stacks>0 and layout.steps<limit:\n",
    "            seleccionada = SSRC(layout)\n",
    "        \n",
    "            if verbose:\n",
    "                for s in layout.stacks: print(s)\n",
    "                print(\"\\n\")\n",
    "\n",
    "\n",
    "            if verbose: \n",
    "                print(\"selected:\",layout.stacks[seleccionada])\n",
    "                #print(\"nb_unsorted_elements\",nb_unsorted_elements)\n",
    "                #print(\"ranks:\",rank)\n",
    "\n",
    "            #Se retiran los elementos de la columna\n",
    "            success, rank = SDpp(layout, seleccionada)\n",
    "            if not success: return 1000\n",
    "            #gr.SD_move(layout, stack=seleccionada)\n",
    "\n",
    "            if verbose:\n",
    "                for s in layout.stacks: print(s)\n",
    "                print(\"\\n\")\n",
    "\n",
    "\n",
    "            #Según yo el último parámetro implica que el método tratará de llenar el stack, sin embargo si pongo 100 se cae?\n",
    "            success = SFpp(layout,seleccionada, rank)#nb_unsorted_elements)\n",
    "            if not success: return 1000\n",
    "\n",
    "            Greedy.lazy_greedy(layout)\n",
    "\n",
    "\n",
    "        #print(\"SELECCIONADA:\", seleccionada)\n",
    "        #print(len(layout.moves),\"\\t\",layout.unsorted_stacks)\n",
    "        return layout.steps\n",
    "        #print()"
   ]
  },
  {
   "cell_type": "code",
   "execution_count": 96,
   "metadata": {},
   "outputs": [],
   "source": [
    "import copy\n",
    "def BSG(layout, w=4):\n",
    "    best = 200\n",
    "    S = [layout]\n",
    "    while len(S)>0:\n",
    "        C=[]\n",
    "        for lay in S:\n",
    "            C = C + generate_candidates(lay)\n",
    "        SS = []\n",
    "        #print(len(C))\n",
    "        for clay in C:\n",
    "            steps_old = clay.steps\n",
    "            lb_steps = steps_old + (clay.total_elements-sum(clay.sorted_elements))\n",
    "            gclay=copy.deepcopy(clay)\n",
    "            steps = solve(gclay, limit=best+20)\n",
    "            if steps < best and gclay.unsorted_stacks==0: \n",
    "                best=steps; \n",
    "                if bsg_verbose: \n",
    "                    print(best, gclay.stacks) \n",
    "                    print(gclay.bsg_moves)\n",
    "            if steps < 1000 and steps_old < steps and lb_steps < steps:\n",
    "                SS.append((steps,clay))\n",
    "        SS.sort(key=lambda x: x[0])\n",
    "        #print(SS)\n",
    "        S.clear(); i=0\n",
    "        for s in SS:\n",
    "            if i==w: break\n",
    "            i+=1\n",
    "            if s[1].steps < best:\n",
    "                S.append(s[1])     \n",
    "        #print(len(S))\n",
    "    return best"
   ]
  },
  {
   "cell_type": "code",
   "execution_count": null,
   "metadata": {},
   "outputs": [],
   "source": [
    "def generate_candidates(lay):\n",
    "    steps = lay.steps\n",
    "    C = []\n",
    "    for i in range(len(lay.stacks)):\n",
    "        clay = copy.deepcopy(lay)\n",
    "        success, clay.rank = SDpp(clay, i)\n",
    "        clay.last_sd = i\n",
    "        #if success != True: continue\n",
    "        #success = SFpp(clay,i, rank)\n",
    "        if success and clay.steps > steps:\n",
    "            clay.bsg_moves.append('SDpp'+str(i))\n",
    "            C.append(clay)\n",
    "            \n",
    "    for i in range(len(lay.stacks)):\n",
    "        clay = copy.deepcopy(lay)\n",
    "        success, __ = Greedy.SD_move(clay, stack=i)\n",
    "        clay.last_sd = None\n",
    "        #if success != True: continue\n",
    "        #success = SFpp(clay,i, rank)\n",
    "        if success and clay.steps > steps:\n",
    "            C.append(clay)\n",
    "            \n",
    "    clay = copy.deepcopy(lay) \n",
    "    clay.rank = None\n",
    "    clay.last_sd = None\n",
    "    Greedy.lazy_greedy(clay)\n",
    "    if clay.steps > steps:\n",
    "        clay.bsg_moves.append('LG')\n",
    "        C.append(clay)\n",
    "        \n",
    "    clay = copy.deepcopy(lay) \n",
    "    if clay.last_sd != None:\n",
    "        success = SFpp(clay, clay.last_sd, clay.rank)\n",
    "        if success and clay.steps > steps:\n",
    "            clay.bsg_moves.append('SFpp'+str(clay.last_sd))\n",
    "            clay.last_sd=None\n",
    "            clay.rank=None\n",
    "            C.append(clay)\n",
    "        \n",
    "\n",
    "        \n",
    "    return C"
   ]
  },
  {
   "cell_type": "markdown",
   "metadata": {},
   "source": [
    "### Solve all the instances"
   ]
  },
  {
   "cell_type": "code",
   "execution_count": 144,
   "metadata": {},
   "outputs": [
    {
     "name": "stdout",
     "output_type": "stream",
     "text": [
      "CVS-10-10:\t163.575\t0.30718135833740234                                                                                          \n",
      "CVS-10-6:\t126.7\t0.18749785423278809                                                                                          \n",
      "CVS-3-3:\t11.775\t0.07679414749145508                                                                                          \n",
      "CVS-3-4:\t11.875\t0.07978606224060059                                                                                          \n",
      "CVS-3-5:\t12.575\t0.0857701301574707                                                                                          \n",
      "CVS-3-6:\t13.375\t0.08078408241271973                                                                                          \n",
      "CVS-3-7:\t14.975\t0.0967402458190918                                                                                          \n",
      "CVS-3-8:\t15.5\t0.1047210693359375                                                                                          \n",
      "CVS-4-4:\t22.0\t0.0907595157623291                                                                                          \n",
      "CVS-4-5:\t23.875\t0.10870933532714844                                                                                          \n",
      "CVS-4-6:\t25.175\t0.10671377182006836                                                                                          \n",
      "CVS-4-7:\t27.85\t0.14261913299560547                                                                                          \n",
      "CVS-5-10:\t53.05\t0.19248390197753906                                                                                          \n",
      "CVS-5-4:\t33.825\t0.1296534538269043                                                                                          \n",
      "CVS-5-5:\t35.125\t0.13363981246948242                                                                                          \n",
      "CVS-5-6:\t39.65\t0.1276566982269287                                                                                          \n",
      "CVS-5-7:\t42.15\t0.1396350860595703                                                                                          \n",
      "CVS-5-8:\t46.525\t0.16456103324890137                                                                                          \n",
      "CVS-5-9:\t50.375\t0.17752575874328613                                                                                          \n",
      "CVS-6-10:\t71.875\t0.23038005828857422                                                                                          \n",
      "CVS-6-6:\t54.15\t0.15358972549438477                                                                                          \n",
      "prom CVS: 42.66547619047619\n",
      "BF1:\t29.15\t0.07878780364990234\n",
      "BF2:\t36.0\t0.07978582382202148\n",
      "BF3:\t29.25\t0.07679367065429688\n",
      "BF4:\t36.0\t0.06482672691345215\n",
      "BF5:\t45.5\t0.05086112022399902\n",
      "BF6:\t55.35\t0.06383037567138672\n",
      "BF7:\t47.95\t0.05883932113647461\n",
      "BF8:\t56.05\t0.059809207916259766\n",
      "BF9:\t53.9\t0.10771346092224121\n",
      "BF10:\t59.95\t0.10970544815063477\n",
      "BF11:\t54.45\t0.08380627632141113\n",
      "BF12:\t60.2\t0.09175515174865723\n",
      "BF13:\t87.15\t0.08978939056396484\n",
      "BF14:\t107.35\t0.08178186416625977\n",
      "BF15:\t89.35\t0.08380532264709473\n",
      "BF16:\t109.45\t0.08380603790283203\n",
      "BF17:\t36.6\t0.09571290016174316\n",
      "BF18:\t45.0\t0.1017603874206543\n",
      "BF19:\t36.45\t0.1067495346069336\n",
      "BF20:\t45.0\t0.10571742057800293\n",
      "BF21:\t56.05\t0.13364219665527344\n",
      "BF22:\t65.95\t0.13962554931640625\n",
      "BF23:\t56.3\t0.1296536922454834\n",
      "BF24:\t66.45\t0.1047205924987793\n",
      "BF25:\t64.2\t0.15661215782165527\n",
      "BF26:\t72.9\t0.1436457633972168\n",
      "BF27:\t64.65\t0.16652512550354004\n",
      "BF28:\t73.55\t0.21642136573791504\n",
      "BF29:\t105.5\t0.13666415214538574\n",
      "BF30:\t125.65\t0.14058899879455566\n",
      "BF31:\t106.2\t0.19148802757263184\n",
      "BF32:\t126.1\t0.17154216766357422\n",
      "prom BF: 65.73750000000001\n"
     ]
    }
   ],
   "source": [
    "import os\n",
    "import copy\n",
    "import numpy as np\n",
    "import Greedy as gr\n",
    "import Greedy\n",
    "import Pixie as px\n",
    "import Layout\n",
    "import importlib\n",
    "importlib.reload(gr)\n",
    "importlib.reload(Layout)\n",
    "importlib.reload(px)\n",
    "from os import listdir\n",
    "from os.path import isfile, join\n",
    "\n",
    "\n",
    "onlyfiles = [f for f in listdir(\"Instancias\") if not isfile(join(\"Instancias\", f))]\n",
    "verbose = False\n",
    "bsg_verbose=False\n",
    "\n",
    "tot_moves=0\n",
    "for f in onlyfiles:\n",
    "    if f == 'BF' or f== '3-x' : continue\n",
    "    #print(f)\n",
    "    nmoves=0; count = 0\n",
    "    av = [\"None\"]\n",
    "    start = time.time()\n",
    "    for i in progressbar(range(1,41), \"CVS-\"+f+ \":\\t\", 40, out=av):\n",
    "        filename = \"Instancias/\"+ f+ \"/data\"+f+\"-\"+str(i)+\".dat\"\n",
    "        layout = px.read(filename)\n",
    "        steps = solve(layout)\n",
    "        #steps = BSG(layout, w=20)\n",
    "        #print(filename, steps)\n",
    "        if steps < 1000:\n",
    "            count += 1\n",
    "            nmoves += steps\n",
    "            av[0] = str(nmoves/count)+\"\\t\"+str(time.time() - start) +\" \"*10\n",
    "        else: print(filename)\n",
    "    tot_moves += nmoves\n",
    "    #print (f,nmoves/ count,count, \" \"*50);\n",
    "    sys.exit\n",
    "print(\"prom CVS:\",tot_moves/(21.0*40.0))\n",
    "\n",
    "verbose=False\n",
    "dir = \"Instancias\\\\BF\"\n",
    "tot_moves=0\n",
    "carpetas = os.listdir(dir)\n",
    "#av = [\"None\"]\n",
    "for i in range(1,33):\n",
    "    carpeta = \"BF\"+str(i)\n",
    "    archivos = os.listdir(dir+\"\\\\\"+carpeta)\n",
    "    suma = 0\n",
    "    count = 0\n",
    "    start = time.time()\n",
    "    for archivo in archivos:\n",
    "        if \"optimo\" not in archivo: \n",
    "            ruta = dir+\"\\\\\"+carpeta+\"\\\\\"+archivo\n",
    "            #print(ruta)\n",
    "            layout = px.readBF(ruta)\n",
    "            steps = solve(layout)\n",
    "            #steps = BSG(layout, w=20)\n",
    "            if steps < 1000:\n",
    "                suma += steps\n",
    "                count += 1\n",
    "                #av[0] = str(nmoves/count)+\" \"+str(time.time() - start) +\" \"*10\n",
    "            #suma += gr.greedy_solve(layout)\n",
    "            \n",
    "        \n",
    "    promedio = suma/count  \n",
    "    tot_moves += promedio\n",
    "    print(carpeta + \":\\t\"+str(promedio)+\"\\t\"+str(time.time() - start))\n",
    "print(\"prom BF:\",tot_moves/(32.0))"
   ]
  },
  {
   "cell_type": "code",
   "execution_count": 124,
   "metadata": {},
   "outputs": [
    {
     "name": "stdout",
     "output_type": "stream",
     "text": [
      "[[95, 90, 88, 86, 83, 79, 72, 68, 64, 46, 43], [78, 25, 48, 81, 59, 23, 47, 89, 4, 53], [1, 24, 77, 35, 69, 42, 66, 17, 16, 18, 19, 27], [60, 37], [61, 41, 58, 50, 67, 80, 39, 28, 45, 33, 55, 94], [65, 63, 51, 26, 7], [15, 87, 62, 97, 93, 5, 98, 34, 36, 57, 85, 92], [30, 12, 11, 8, 9, 22, 10, 91, 20, 29, 75, 76], [2, 84, 96, 56, 71, 49, 13, 21, 52, 6, 31, 32], [82, 44, 74, 40, 73, 100, 54, 99, 38, 70, 3, 14]]\n",
      "160 [[95, 90, 88, 86, 83, 79, 72, 68, 64, 46, 43, 37], [78, 59, 48, 47, 33, 31, 25, 23, 20, 16, 14, 6], [89, 81, 77, 69, 66, 52, 45, 42, 36, 35, 34, 32], [76, 75, 60, 53], [80, 67, 61, 58, 50, 41, 39, 15, 13, 10, 5, 4], [92, 85, 70, 65, 63, 57, 55, 38, 27, 26, 7], [98, 97, 93, 91, 87, 62, 29, 28, 24, 21, 18, 17], [30, 12, 11, 8, 3, 2, 1], [96, 84, 71, 56, 49, 22, 19, 9], [100, 99, 94, 82, 74, 73, 54, 51, 44, 40]]\n",
      "['SDpp0']\n",
      "159 [[95, 90, 89, 88, 86, 83, 81, 79, 72, 70, 46, 45], [78, 68, 64, 59, 48, 47, 33, 32, 29, 25, 23, 20], [77, 69, 35, 24, 22], [76, 75, 60, 53, 26, 19, 7, 2, 1], [61, 58, 50, 41, 39, 38, 37, 31, 28, 16, 14, 6], [91, 85, 65, 63, 57, 55, 42, 27, 10, 9], [100, 99, 98, 97, 93, 92, 87, 62, 21, 18, 17, 15], [30, 12, 11, 8], [96, 94, 84, 71, 66, 56, 51, 49, 13, 5, 4, 3], [82, 80, 74, 73, 67, 54, 52, 44, 43, 40, 36, 34]]\n",
      "['SDpp1']\n",
      "158 [[90, 79, 46, 37, 31, 17, 15, 14, 5, 3], [78, 59, 56, 49, 48, 47, 38, 25, 23, 16, 13, 2], [77, 69, 66, 52, 42, 35, 24, 10, 7], [94, 91, 76, 75, 60, 53, 51, 26, 22, 9], [61, 45, 33, 29, 18, 4, 1], [65, 63, 58, 57, 55, 50, 41, 39, 28, 27, 19, 6], [100, 99, 98, 97, 93, 92, 89, 87, 64, 62, 43, 20], [30, 12, 11, 8], [96, 95, 88, 86, 85, 84, 83, 80, 72, 71, 70, 67], [82, 81, 74, 73, 68, 54, 44, 40, 36, 34, 32, 21]]\n",
      "['SDpp4', 'SDpp5']\n",
      "157 [[90, 79, 46, 37, 31], [78, 68, 64, 59, 48, 47, 33, 32, 29, 25, 23, 18], [77, 69, 43, 35, 24, 14], [91, 76, 75, 60, 53, 52, 26, 21, 17, 13, 10, 7], [94, 80, 67, 61, 58, 51, 50, 41, 16, 15, 6, 5], [95, 89, 88, 86, 85, 83, 81, 72, 70, 65, 63, 57], [100, 99, 98, 97, 93, 92, 87, 62, 39, 27, 20, 19], [30, 12, 11, 8, 2, 1], [96, 84, 71, 66, 56, 49, 42, 22, 9, 4, 3], [82, 74, 73, 55, 54, 45, 44, 40, 38, 36, 34, 28]]\n",
      "['SDpp1', 'SFpp1', 'SDpp5']\n",
      "155 [[90, 46, 37], [78, 68, 64, 59, 48, 47, 33, 32, 29, 25, 23, 18], [92, 77, 69, 66, 55, 45, 42, 38, 35, 28, 27, 24], [76, 75, 60, 53, 52, 26, 22, 21, 13, 9, 2], [99, 80, 67, 61, 58, 54, 50, 41, 39, 20, 19, 17], [95, 89, 88, 86, 85, 83, 81, 72, 70, 65, 63, 57], [98, 97, 93, 87, 79, 62, 31, 15, 14], [30, 12, 11, 8, 7, 4, 1], [96, 84, 71, 56, 49, 43, 36, 34, 5, 3], [100, 94, 91, 82, 74, 73, 51, 44, 40, 16, 10, 6]]\n",
      "['SDpp1', 'SFpp1', 'SDpp5', 'LG', 'SDpp2']\n",
      "154 [[100, 99, 92, 90, 79, 46, 37, 36, 34, 31, 28, 27], [78, 68, 64, 59, 48, 47, 33, 32, 29, 25, 23, 18], [57, 42, 38, 35, 24, 19, 17, 16, 6, 4, 1], [91, 76, 75, 60, 53, 39, 26, 21, 13, 10, 7, 2], [61, 58, 41], [95, 89, 88, 86, 85, 83, 81, 72, 70, 65, 63, 52], [98, 97, 94, 93, 87, 62, 51, 20, 15, 14, 5, 3], [30, 12, 11, 8], [96, 84, 80, 71, 67, 56, 50, 49, 22, 9], [82, 77, 74, 73, 69, 66, 55, 54, 45, 44, 43, 40]]\n",
      "['SDpp1', 'SFpp1', 'SDpp5', 'LG', 'SDpp2', 'SDpp5']\n",
      "153 [[100, 99, 92, 90, 79, 46, 37, 36, 34, 31, 28, 27], [78, 68, 64, 59, 48, 47, 33, 32, 29, 25, 23, 18], [57, 42, 38, 35, 24, 19, 17, 16, 6, 4, 1], [91, 76, 75, 60, 53, 39, 26, 21, 13, 10, 7, 2], [61, 58], [95, 89, 88, 86, 85, 83, 81, 72, 70, 65, 63, 52], [98, 97, 94, 93, 87, 62, 51, 20, 15, 14, 5, 3], [30, 12, 11, 8], [96, 84, 80, 71, 67, 56, 50, 49, 41, 22, 9], [82, 77, 74, 73, 69, 66, 55, 54, 45, 44, 43, 40]]\n",
      "['SDpp1', 'SFpp1', 'SDpp5', 'LG', 'SDpp2', 'SDpp5', 'LG', 'SDpp9', 'LG', 'SDpp0', 'LG', 'SDpp6', 'LG', 'SDpp3', 'LG', 'SDpp8', 'SFpp8', 'SDpp4']\n"
     ]
    },
    {
     "data": {
      "text/plain": [
       "153"
      ]
     },
     "execution_count": 124,
     "metadata": {},
     "output_type": "execute_result"
    }
   ],
   "source": [
    "importlib.reload(Layout)\n",
    "verbose = False\n",
    "bsg_verbose = True\n",
    "filename = \"Instancias/10-10/data10-10-1.dat\"\n",
    "print(layout.stacks)\n",
    "layout = px.read(filename)\n",
    "\n",
    "BSG(layout, w=4)\n",
    "#layout.stacks, layout.full_stacks"
   ]
  },
  {
   "cell_type": "code",
   "execution_count": 117,
   "metadata": {},
   "outputs": [
    {
     "name": "stdout",
     "output_type": "stream",
     "text": [
      "[14, 37, 3, 90, 46, 31, 79, 43, 32, 68]\n",
      "[78, 25, 48, 81, 59, 23, 47, 89, 83, 88]\n",
      "[1, 24, 77, 35, 69, 42, 66, 17, 16, 72]\n",
      "[60, 7, 53, 26, 76, 75, 51, 94, 92, 86]\n",
      "[61, 41, 58, 50, 67, 80, 39, 28, 45, 33]\n",
      "[65, 63, 85, 55, 57, 27, 19, 4, 18, 29]\n",
      "[15, 87, 62, 97, 93, 5, 98, 34, 36, 95]\n",
      "[30, 12, 11, 8, 9, 22, 10, 91, 20, 64]\n",
      "[2, 84, 96, 56, 71, 49, 13, 21, 52, 6]\n",
      "[82, 44, 74, 40, 73, 100, 54, 99, 38, 70]\n"
     ]
    }
   ],
   "source": [
    "importlib.reload(Layout)\n",
    "verbose = True\n",
    "filename = \"Instancias/10-10/data10-10-1.dat\"\n",
    "layout = px.read(filename)\n",
    "for s in layout.stacks: print(s)"
   ]
  },
  {
   "cell_type": "code",
   "execution_count": 118,
   "metadata": {},
   "outputs": [
    {
     "name": "stdout",
     "output_type": "stream",
     "text": [
      "True\n",
      "[]\n",
      "[78, 25, 48, 81, 59, 23, 47, 89, 83, 88, 90]\n",
      "[1, 24, 77, 35, 69, 42, 66, 17, 16, 72, 79]\n",
      "[60, 7, 53, 26, 76, 75, 51, 94, 92, 86]\n",
      "[61, 41, 58, 50, 67, 80, 39, 28, 45, 33, 43, 46]\n",
      "[65, 63, 85, 55, 57, 27, 19, 4, 18, 29, 32, 37]\n",
      "[15, 87, 62, 97, 93, 5, 98, 34, 36, 95]\n",
      "[30, 12, 11, 8, 9, 22, 10, 91, 20, 64, 68]\n",
      "[2, 84, 96, 56, 71, 49, 13, 21, 52, 6, 31]\n",
      "[82, 44, 74, 40, 73, 100, 54, 99, 38, 70, 3, 14]\n"
     ]
    }
   ],
   "source": [
    "success, ranks = SDpp(layout, 0)\n",
    "print(success)\n",
    "for s in layout.stacks: print(s)"
   ]
  },
  {
   "cell_type": "code",
   "execution_count": 119,
   "metadata": {},
   "outputs": [
    {
     "name": "stdout",
     "output_type": "stream",
     "text": [
      "True\n",
      "[95, 90, 88, 86, 83, 79, 72, 68, 64, 46, 43, 37]\n",
      "[78, 25, 48, 81, 59, 23, 47, 89]\n",
      "[1, 24, 77, 35, 69, 42, 66, 17, 16]\n",
      "[60, 7, 53, 26, 76, 75, 51, 94, 92]\n",
      "[61, 41, 58, 50, 67, 80, 39, 28, 45, 33]\n",
      "[65, 63, 85, 55, 57, 27, 19, 4, 18, 29, 32]\n",
      "[15, 87, 62, 97, 93, 5, 98, 34, 36]\n",
      "[30, 12, 11, 8, 9, 22, 10, 91, 20]\n",
      "[2, 84, 96, 56, 71, 49, 13, 21, 52, 6, 31]\n",
      "[82, 44, 74, 40, 73, 100, 54, 99, 38, 70, 3, 14]\n"
     ]
    }
   ],
   "source": [
    "success = SFpp(layout, 0, ranks)\n",
    "print(success)\n",
    "for s in layout.stacks: print(s)"
   ]
  },
  {
   "cell_type": "code",
   "execution_count": 120,
   "metadata": {},
   "outputs": [
    {
     "name": "stdout",
     "output_type": "stream",
     "text": [
      "True\n",
      "[95, 90, 88, 86, 83, 79, 72, 68, 64, 46, 43, 37]\n",
      "[78, 25, 48, 81, 59, 23, 47, 89, 4]\n",
      "[1, 24, 77, 35, 69, 42, 66, 17, 16, 18, 19, 27]\n",
      "[60, 7, 53, 26, 76, 75, 51, 94, 92]\n",
      "[61, 41, 58, 50, 67, 80, 39, 28, 45, 33, 55]\n",
      "[65, 63]\n",
      "[15, 87, 62, 97, 93, 5, 98, 34, 36, 57, 85]\n",
      "[30, 12, 11, 8, 9, 22, 10, 91, 20, 29]\n",
      "[2, 84, 96, 56, 71, 49, 13, 21, 52, 6, 31, 32]\n",
      "[82, 44, 74, 40, 73, 100, 54, 99, 38, 70, 3, 14]\n"
     ]
    }
   ],
   "source": [
    "success, ranks = SDpp(layout, 5)\n",
    "print(success)\n",
    "for s in layout.stacks: print(s)"
   ]
  },
  {
   "cell_type": "code",
   "execution_count": 121,
   "metadata": {},
   "outputs": [
    {
     "name": "stdout",
     "output_type": "stream",
     "text": [
      "True\n",
      "[95, 90, 88, 86, 83, 79, 72, 68, 64, 46, 43, 37]\n",
      "[78, 25, 48, 81, 59, 23, 47, 89, 4, 53]\n",
      "[1, 24, 77, 35, 69, 42, 66, 17, 16, 18, 19, 27]\n",
      "[60]\n",
      "[61, 41, 58, 50, 67, 80, 39, 28, 45, 33, 55, 94]\n",
      "[65, 63, 51, 26, 7]\n",
      "[15, 87, 62, 97, 93, 5, 98, 34, 36, 57, 85, 92]\n",
      "[30, 12, 11, 8, 9, 22, 10, 91, 20, 29, 75, 76]\n",
      "[2, 84, 96, 56, 71, 49, 13, 21, 52, 6, 31, 32]\n",
      "[82, 44, 74, 40, 73, 100, 54, 99, 38, 70, 3, 14]\n"
     ]
    }
   ],
   "source": [
    "success, ranks = SDpp(layout, 3)\n",
    "print(success)\n",
    "for s in layout.stacks: print(s)"
   ]
  },
  {
   "cell_type": "code",
   "execution_count": 122,
   "metadata": {},
   "outputs": [
    {
     "name": "stdout",
     "output_type": "stream",
     "text": [
      "True\n",
      "[95, 90, 88, 86, 83, 79, 72, 68, 64, 46, 43]\n",
      "[78, 25, 48, 81, 59, 23, 47, 89, 4, 53]\n",
      "[1, 24, 77, 35, 69, 42, 66, 17, 16, 18, 19, 27]\n",
      "[60, 37]\n",
      "[61, 41, 58, 50, 67, 80, 39, 28, 45, 33, 55, 94]\n",
      "[65, 63, 51, 26, 7]\n",
      "[15, 87, 62, 97, 93, 5, 98, 34, 36, 57, 85, 92]\n",
      "[30, 12, 11, 8, 9, 22, 10, 91, 20, 29, 75, 76]\n",
      "[2, 84, 96, 56, 71, 49, 13, 21, 52, 6, 31, 32]\n",
      "[82, 44, 74, 40, 73, 100, 54, 99, 38, 70, 3, 14]\n"
     ]
    }
   ],
   "source": [
    "success, ranks = SDpp(layout, 0)\n",
    "print(success)\n",
    "for s in layout.stacks: print(s)"
   ]
  },
  {
   "cell_type": "markdown",
   "metadata": {},
   "source": [
    "![image](https://i.imgur.com/XsBW9YR.png)"
   ]
  },
  {
   "cell_type": "code",
   "execution_count": null,
   "metadata": {},
   "outputs": [],
   "source": []
  },
  {
   "cell_type": "markdown",
   "metadata": {},
   "source": [
    "![image](https://i.imgur.com/uE2o976.png)"
   ]
  },
  {
   "cell_type": "code",
   "execution_count": 258,
   "metadata": {},
   "outputs": [
    {
     "name": "stdout",
     "output_type": "stream",
     "text": [
      "[[3, 6, 8], [7, 9, 5], [2, 1, 4]]\n"
     ]
    }
   ],
   "source": [
    "verbose = False \n",
    "filename = \"Instancias/3-3/data3-3-38.dat\"\n",
    "layout = px.read(filename)\n",
    "print (layout.stacks)"
   ]
  },
  {
   "cell_type": "code",
   "execution_count": 184,
   "metadata": {},
   "outputs": [],
   "source": [
    "C=generate_candidates(layout)"
   ]
  },
  {
   "cell_type": "code",
   "execution_count": 25,
   "metadata": {},
   "outputs": [
    {
     "name": "stdout",
     "output_type": "stream",
     "text": [
      "Instancias\\BF\\BF5\\cpmp_16_5_64_13_39_4.bay 41\n",
      "1.025\n"
     ]
    }
   ],
   "source": [
    "importlib.reload(Layout)\n",
    "\n",
    "total=0\n",
    "for i in range(1,2):\n",
    "    verbose = False \n",
    "    filename = \"Instancias\\BF\\BF5\\cpmp_16_5_64_13_39_4.bay\"\n",
    "    layout = px.readBF(filename)\n",
    "    steps=BSG(layout, w=10)\n",
    "    total+=steps\n",
    "    print(filename,steps)\n",
    "print(total/40.0)"
   ]
  },
  {
   "cell_type": "code",
   "execution_count": 191,
   "metadata": {},
   "outputs": [
    {
     "data": {
      "text/plain": [
       "0"
      ]
     },
     "execution_count": 191,
     "metadata": {},
     "output_type": "execute_result"
    }
   ],
   "source": [
    "C[1].unsorted_stacks"
   ]
  },
  {
   "cell_type": "code",
   "execution_count": 192,
   "metadata": {},
   "outputs": [
    {
     "data": {
      "text/plain": [
       "14"
      ]
     },
     "execution_count": 192,
     "metadata": {},
     "output_type": "execute_result"
    }
   ],
   "source": [
    "solve(C[1])"
   ]
  },
  {
   "cell_type": "code",
   "execution_count": 142,
   "metadata": {},
   "outputs": [
    {
     "name": "stdout",
     "output_type": "stream",
     "text": [
      "Computing: None                                                                                \n",
      "Computing: None                                                                                \n"
     ]
    }
   ],
   "source": [
    "import sys\n",
    "\n",
    "def progressbar(it, prefix=\"\", size=60, file=sys.stdout, out=['None']):\n",
    "    count = len(it)\n",
    "    def show(j):\n",
    "        x = int(size*j/count)\n",
    "        file.write(\"%s[%s%s] %s\\r\" % (prefix, \"#\"*x, \".\"*(size-x), out[0]))\n",
    "        file.flush()        \n",
    "    show(0)\n",
    "    for i, item in enumerate(it):\n",
    "        yield item\n",
    "        show(i+1)\n",
    "    #file.write(\"\\n\")\n",
    "    file.write(prefix + out[0] + \" \"*2*size+\"\\n\")\n",
    "    file.flush()\n",
    "\n",
    "import time\n",
    "\n",
    "for i in progressbar(range(15), \"Computing: \", 40):\n",
    "    time.sleep(0.1) # any calculation you need\n",
    "\n",
    "for i in progressbar(range(15), \"Computing: \", 40):\n",
    "    time.sleep(0.1) # any calculation you need"
   ]
  },
  {
   "cell_type": "code",
   "execution_count": null,
   "metadata": {},
   "outputs": [],
   "source": []
  }
 ],
 "metadata": {
  "kernelspec": {
   "display_name": "Python 3",
   "language": "python",
   "name": "python3"
  },
  "language_info": {
   "codemirror_mode": {
    "name": "ipython",
    "version": 3
   },
   "file_extension": ".py",
   "mimetype": "text/x-python",
   "name": "python",
   "nbconvert_exporter": "python",
   "pygments_lexer": "ipython3",
   "version": "3.7.3"
  }
 },
 "nbformat": 4,
 "nbformat_minor": 4
}

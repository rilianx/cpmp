{
 "cells": [
  {
   "cell_type": "markdown",
   "metadata": {},
   "source": [
    "Greedy Solve\n",
    "============"
   ]
  },
  {
   "cell_type": "code",
   "execution_count": 3,
   "metadata": {},
   "outputs": [],
   "source": [
    "def compute_sorted_elements(stack):\n",
    "    if len(stack)==0: return 0\n",
    "    sorted_elements=1\n",
    "    while(sorted_elements<len(stack) and stack[sorted_elements] <= stack[sorted_elements-1]):\n",
    "        sorted_elements +=1\n",
    "    \n",
    "    return sorted_elements\n",
    "\n",
    "def gvalue(stack):\n",
    "    if len(stack)==0: return 100\n",
    "    else: return stack[-1]\n",
    "    "
   ]
  },
  {
   "cell_type": "code",
   "execution_count": 4,
   "metadata": {},
   "outputs": [],
   "source": [
    "class Layout:\n",
    "    def __init__(self, stacks, H):\n",
    "        self.stacks = stacks\n",
    "        self.sorted_elements = []\n",
    "        self.sorted_stack = []\n",
    "        self.unsorted_stacks = 0\n",
    "        self.steps = 0\n",
    "        self.current_step = 0\n",
    "        self.moves = []\n",
    "        self.H = H\n",
    "        j=0\n",
    "        \n",
    "        for stack in stacks:\n",
    "            self.sorted_elements.append(compute_sorted_elements(stack))\n",
    "            if not self.is_sorted_stack(j):\n",
    "                self.unsorted_stacks += 1\n",
    "                self.sorted_stack.append(False)\n",
    "            else: self.sorted_stack.append(True)\n",
    "            j += 1\n",
    "    \n",
    "    def move(self,i,j, index=-1):\n",
    "        c = self.stacks[i][index]\n",
    "        if self.is_sorted_stack(i):\n",
    "            self.sorted_elements[i] -= 1\n",
    "            \n",
    "        if self.is_sorted_stack(j) and gvalue(self.stacks[j]) >= c:\n",
    "            self.sorted_elements[j] += 1\n",
    "            \n",
    "        self.stacks[i].pop(index)\n",
    "        self.stacks[j].append(c)\n",
    "        \n",
    "        if index!=-1:  self.sorted_elements[i] = compute_sorted_elements(self.stacks[i])\n",
    "        self.is_sorted_stack(i)\n",
    "        self.is_sorted_stack(j)\n",
    "        self.steps += 1\n",
    "        self.current_step += 1\n",
    "        self.moves.append((i,j,index))\n",
    "        \n",
    "        return c\n",
    "        \n",
    "    \n",
    "        \n",
    "    def highlighted_print(self, stack_set):\n",
    "        for stack in self.stacks:\n",
    "            if stack in stack_set:\n",
    "                print('\\033[94m'+str(stack)+'\\033[0m')\n",
    "            else:\n",
    "                print(stack)\n",
    "    \n",
    "    def next(self, printed=False):\n",
    "        if self.current_step == self.steps: \n",
    "            if printed: self.highlighted_print([])\n",
    "            return\n",
    "        i,j = self.moves[self.current_step]\n",
    "        self.current_step += 1\n",
    "        c=self.stacks[i].pop()\n",
    "        self.stacks[j].append(c)\n",
    "        \n",
    "        if printed:\n",
    "            s=[]\n",
    "            if(self.current_step < self.steps):\n",
    "                i,j = self.moves[self.current_step]\n",
    "                s.append(self.stacks[i]), s.append(self.stacks[j])\n",
    "            self.highlighted_print(s)\n",
    "                \n",
    "\n",
    "    def prev(self, printed=False):\n",
    "        if self.current_step == 0:\n",
    "            if printed: self.highlighted_print([])\n",
    "            return\n",
    "        \n",
    "        self.current_step -= 1\n",
    "        j,i = self.moves[self.current_step]\n",
    "        c=self.stacks[i].pop()\n",
    "        self.stacks[j].append(c)\n",
    "\n",
    "        if printed:   \n",
    "            s=[]\n",
    "            if(self.current_step-1 > 0):\n",
    "                i,j = self.moves[self.current_step-1]\n",
    "                s.append(self.stacks[i]), s.append(self.stacks[j])\n",
    "            self.highlighted_print(s)\n",
    "        \n",
    "    def is_sorted_stack(self, j):\n",
    "        sorted = len(self.stacks[j]) == self.sorted_elements[j]\n",
    "\n",
    "        if j<len(self.sorted_stack) and self.sorted_stack[j] != sorted: \n",
    "            self.sorted_stack[j] = sorted\n",
    "            if sorted == True: self.unsorted_stacks -= 1\n",
    "            else: self.unsorted_stacks += 1\n",
    "        return sorted\n",
    "    \n",
    "    \n",
    "        "
   ]
  },
  {
   "cell_type": "code",
   "execution_count": 5,
   "metadata": {},
   "outputs": [],
   "source": [
    "def read_file(file, H):\n",
    "    with open(file) as f:\n",
    "        S, C = [int(x) for x in next(f).split()] # read first line\n",
    "        stacks = []\n",
    "        for line in f: # read rest of lines\n",
    "            stack = [int(x) for x in line.split()[1::]]\n",
    "            #if stack[0] == 0: stack.pop()\n",
    "            stacks.append(stack)\n",
    "            \n",
    "        layout = Layout(stacks,H)\n",
    "    return layout"
   ]
  },
  {
   "cell_type": "code",
   "execution_count": 6,
   "metadata": {},
   "outputs": [],
   "source": [
    "def select_destination_stack(layout, orig, black_list=[], max_pos=100):\n",
    "    s_o = layout.stacks[orig]\n",
    "    c = s_o[-1]\n",
    "    best_eval=-1000000;\n",
    "    best_dest=None\n",
    "    dest=-1;\n",
    "\n",
    "    for dest in range(len(layout.stacks)):\n",
    "            if orig==dest or dest in black_list: continue\n",
    "            s_d = layout.stacks[dest]\n",
    "\n",
    "            if(layout.H == len(s_d)): continue\n",
    "            top_d=gvalue(s_d)\n",
    "\n",
    "            ev=0\n",
    "\n",
    "            if layout.is_sorted_stack(dest) and c<=top_d:\n",
    "              #c can be well-placed: the sorted stack minimizing top_d is preferred.\n",
    "              ev = 10000 - 100*top_d\n",
    "            elif not layout.is_sorted_stack(dest) and c>=top_d:\n",
    "              #unsorted stack with c>=top_d maximizing top_d is preferred\n",
    "              ev = top_d\n",
    "            elif layout.is_sorted_stack(dest):\n",
    "              #sorted with minimal top_d\n",
    "              ev = -100 - top_d\n",
    "            else:\n",
    "              #unsorted with minimal numer of auxiliary stacks\n",
    "              ev = -10000 #+ required_stacks(dest)\n",
    "            \n",
    "            if layout.H - len(s_d) > max_pos:\n",
    "              ev -= 10000\n",
    "\n",
    "            if ev > best_eval:\n",
    "                best_eval=ev\n",
    "                best_dest=dest\n",
    "\n",
    "    return best_dest"
   ]
  },
  {
   "cell_type": "code",
   "execution_count": 27,
   "metadata": {},
   "outputs": [],
   "source": [
    "def reachable_height(layout, i):\n",
    "    if not layout.is_sorted_stack(i): return -1;\n",
    "    \n",
    "    top = gvalue(layout.stacks[i])\n",
    "    h = len(layout.stacks[i])\n",
    "    if h==layout.H: return size;\n",
    "    \n",
    "    stack=layout.stacks[i]\n",
    "    all_stacks = True #True: all the bad located tops can be placed in stack\n",
    "    \n",
    "    for k in range(len(layout.stacks)):\n",
    "        if k==i: continue\n",
    "        if layout.is_sorted_stack(k): continue\n",
    "            \n",
    "        stack_k=layout.stacks[k]\n",
    "        unsorted = len(stack_k)-layout.sorted_elements[k]\n",
    "        prev = 1000;\n",
    "        for j in range (1,unsorted+1):\n",
    "            if stack_k[-j] <= prev and stack_k[-j] <=top:\n",
    "                h += 1\n",
    "                if h==layout.H: return h\n",
    "                prev = stack_k[-j]\n",
    "            else: \n",
    "                if j==1: all_stacks=False\n",
    "                break\n",
    "                \n",
    "    if all_stacks: return layout.H\n",
    "    else: return h\n",
    "             "
   ]
  },
  {
   "cell_type": "code",
   "execution_count": 28,
   "metadata": {},
   "outputs": [],
   "source": [
    "def SF_move(layout, s_d=None):\n",
    "    s_o = None\n",
    "    s_d = None\n",
    "    min_dif = 10000\n",
    "    for i in range(len(layout.stacks)):\n",
    "        if(layout.is_sorted_stack(i) and len(layout.stacks[i]) < layout.H):\n",
    "            top = gvalue(layout.stacks[i])\n",
    "            for k in range(len(layout.stacks)):\n",
    "                if k!=i and not layout.is_sorted_stack(k):\n",
    "                    if layout.stacks[k][-1] <= top and (top - layout.stacks[k][-1]) < min_dif:\n",
    "                        min_dif = top - layout.stacks[k][-1]\n",
    "                        s_d=i; s_o = k\n",
    "    if s_o != None: \n",
    "        layout.move(s_o,s_d)\n",
    "        return True\n",
    "    return False\n",
    "\n",
    "def SF_move_d(layout, s_d):\n",
    "    s_o = None\n",
    "    min_dif = 10000\n",
    "    if(layout.is_sorted_stack(s_d) and len(layout.stacks[s_d]) < layout.H):\n",
    "        top = gvalue(layout.stacks[s_d])\n",
    "        for k in range(len(layout.stacks)):\n",
    "            if k!=s_d and not layout.is_sorted_stack(k):\n",
    "                if layout.stacks[k][-1] <= top and (top - layout.stacks[k][-1]) < min_dif:\n",
    "                    min_dif = top - layout.stacks[k][-1]\n",
    "                    s_o = k\n",
    "    if s_o != None: \n",
    "        layout.move(s_o,s_d)\n",
    "        return True\n",
    "    return False\n"
   ]
  },
  {
   "cell_type": "code",
   "execution_count": 29,
   "metadata": {},
   "outputs": [],
   "source": [
    "def SD_move(layout):\n",
    "    best_ev = 0\n",
    "    for i in range(len(layout.stacks)):\n",
    "        prom = sum(layout.stacks[i]) / len(layout.stacks[i]) \n",
    "        ev = 10000 - 100*len(layout.stacks[i]) - prom\n",
    "        if ev > best_ev:\n",
    "            best_ev = ev\n",
    "            s_o = i\n",
    "            \n",
    "    while len(layout.stacks[s_o])>0:\n",
    "        s_d = select_destination_stack(layout,s_o)\n",
    "        layout.move(s_o,s_d)\n",
    "        if reachable_height(layout,s_o)==layout.H: return    "
   ]
  },
  {
   "cell_type": "code",
   "execution_count": 30,
   "metadata": {},
   "outputs": [],
   "source": [
    "def greedy_solve(layout):\n",
    "    while layout.unsorted_stacks>0:\n",
    "        if not SF_move(layout):\n",
    "            SD_move(layout)\n",
    "        if layout.steps>1000: return 1000\n",
    "    return layout.steps"
   ]
  },
  {
   "cell_type": "code",
   "execution_count": 31,
   "metadata": {},
   "outputs": [],
   "source": [
    "def lazy_greedy(layout):\n",
    "    while layout.unsorted_stacks>0:\n",
    "        if not SF_move(layout): return"
   ]
  },
  {
   "cell_type": "code",
   "execution_count": 32,
   "metadata": {},
   "outputs": [],
   "source": [
    "def solve_file(file,H):\n",
    "    layout = read_file(file,H)\n",
    "    greedy_solve(layout)\n",
    "    return layout"
   ]
  },
  {
   "cell_type": "markdown",
   "metadata": {},
   "source": [
    "Usando el Greedy_Solve\n",
    "--------------------\n",
    "\n",
    "Para resolver un problema basta con crear el layout como una lista de pilas: "
   ]
  },
  {
   "cell_type": "code",
   "execution_count": 42,
   "metadata": {},
   "outputs": [],
   "source": [
    "stacks=[[26,20,25,11,19,2,29,58,35,55],\n",
    "[32,16,51,53,30,5,28,9,22,17],\n",
    "[3,57,1,44,39,23,37,33,40,52],\n",
    "[6,54,36,7,10,48,45,34,41,13],\n",
    "[38,12,18,31,15,46,56,42,59,8],\n",
    "[24,14,50,27,47,49,60,21,4,43]]"
   ]
  },
  {
   "cell_type": "markdown",
   "metadata": {},
   "source": [
    "Luego creamos el layout pasando las *pilas* y la **altura máxima H**"
   ]
  },
  {
   "cell_type": "code",
   "execution_count": 43,
   "metadata": {},
   "outputs": [],
   "source": [
    "layout = Layout(stacks, 12) #el numero es la altura máxima"
   ]
  },
  {
   "cell_type": "markdown",
   "metadata": {},
   "source": [
    "Para resolver llamamos a la función greedy_solve la que nos retorna la cantidad de pasos que realizó"
   ]
  },
  {
   "cell_type": "code",
   "execution_count": 44,
   "metadata": {},
   "outputs": [],
   "source": [
    "#greedy_solve(layout)"
   ]
  },
  {
   "cell_type": "code",
   "execution_count": 45,
   "metadata": {},
   "outputs": [
    {
     "name": "stdout",
     "output_type": "stream",
     "text": [
      "| xx | xx | xx | xx | xx | xx |\n",
      "| xx | xx | xx | xx | xx | xx |\n",
      "| 26 | 32 |  3 |  6 | 38 | 24 |\n",
      "| 20 | 16 | 57 | 54 | 12 | 14 |\n",
      "| 25 | 51 |  1 | 36 | 18 | 50 |\n",
      "| 11 | 53 | 44 |  7 | 31 | 27 |\n",
      "| 19 | 30 | 39 | 10 | 15 | 47 |\n",
      "|  2 |  5 | 23 | 48 | 46 | 49 |\n",
      "| 29 | 28 | 37 | 45 | 56 | 60 |\n",
      "| 58 |  9 | 33 | 34 | 42 | 21 |\n",
      "| 35 | 22 | 40 | 41 | 59 |  4 |\n",
      "| 55 | 17 | 52 | 13 |  8 | 43 |\n"
     ]
    }
   ],
   "source": [
    "#Podemos ver el layout final\n",
    "layout.stacks\n",
    "print(\"| xx | xx | xx | xx | xx | xx |\")\n",
    "print(\"| xx | xx | xx | xx | xx | xx |\")\n",
    "for x in zip(*layout.stacks): \n",
    "    print(\"| %2d | %2d | %2d | %2d | %2d | %2d |\" %(x[0], x[1], x[2], x[3], x[4], x[5]))\n"
   ]
  },
  {
   "cell_type": "code",
   "execution_count": 47,
   "metadata": {},
   "outputs": [
    {
     "data": {
      "text/plain": [
       "[[26, 20, 25, 11, 19, 2, 29, 58, 35, 55, 5, 30],\n",
       " [],\n",
       " [3, 57, 1, 44, 39, 23, 37, 33, 40, 52, 53, 16],\n",
       " [6, 54, 36, 7, 10, 48, 45, 34, 41, 13, 17, 22],\n",
       " [38, 12, 18, 31, 15, 46, 56, 42, 59, 8, 9, 28],\n",
       " [24, 14, 50, 27, 47, 49, 60, 21, 4, 43, 51, 32]]"
      ]
     },
     "execution_count": 47,
     "metadata": {},
     "output_type": "execute_result"
    }
   ],
   "source": [
    "SD_move(layout)\n",
    "layout.stacks\n",
    "#print(\"| xx | xx | xx | xx | xx | xx |\")\n",
    "#print(\"| xx | xx | xx | xx | xx | xx |\")\n",
    "#for x in zip(*layout.stacks): \n",
    "#    print(\"| %2d | %2d | %2d | %2d | %2d | %2d |\" %(x[0], x[1], x[2], x[3], x[4], x[5]))"
   ]
  },
  {
   "cell_type": "code",
   "execution_count": null,
   "metadata": {},
   "outputs": [],
   "source": []
  },
  {
   "cell_type": "code",
   "execution_count": 38,
   "metadata": {},
   "outputs": [
    {
     "data": {
      "text/plain": [
       "[[26, 20, 25, 11, 19, 2, 29, 58, 35, 55],\n",
       " [32, 30, 28, 22, 17, 16, 13, 9, 8, 5],\n",
       " [3, 57, 1, 44, 39, 23, 37, 33, 40, 52, 53],\n",
       " [6, 54, 36, 7, 10, 48, 45, 34, 41],\n",
       " [38, 12, 18, 31, 15, 46, 56, 42, 59],\n",
       " [24, 14, 50, 27, 47, 49, 60, 21, 4, 43, 51]]"
      ]
     },
     "execution_count": 38,
     "metadata": {},
     "output_type": "execute_result"
    }
   ],
   "source": [
    "while SF_move(layout): pass\n",
    "layout.stacks"
   ]
  },
  {
   "cell_type": "code",
   "execution_count": null,
   "metadata": {},
   "outputs": [],
   "source": []
  },
  {
   "cell_type": "markdown",
   "metadata": {},
   "source": [
    "Stack Dismantling\n",
    "---"
   ]
  },
  {
   "cell_type": "markdown",
   "metadata": {},
   "source": [
    "Sacar elementos de manera normal tratando de dejarlos en buenas ubicaciones, es decir, privilegiar:\n",
    "* posición correcta\n",
    "* pilas invertidas\n",
    "\n",
    "Además asegurarse que elementos mayores del stack puedan colocarse correctamente (++).\n",
    "Esto se logra dejando los elementos mayores en posiciones top de otros stacks. La *condición* es la siguiente:\n",
    "* Mayor elemento en top ([-1])\n",
    "* Segundo mayor en [-1] o [-2]\n",
    "* Etc..\n",
    "\n",
    "Por lo tanto, si al decidir colocar un elemento mayor nos damos cuenta que no quedará en una posición conveniente, es válido realizar movimientos previos para que se cumpla la condición: i.e., se selecciona stack destino y se *llena* (movimientos GB no están permitidos). Se puede usar stack origen pero se considera un movimiento adicional (para mantener temporalmente el elemento mayor).\n",
    "\n",
    "> Ojo que es posible que al colocar un elemento mayor, sea necesario bloquear algunas casillas superiores para forzar la condición.\n",
    "\n",
    "\n",
    "Luego se van colocando los elementos *originales* en orden de vuelta al stack. Para ello posiblemente sea necesario realizar movimientos adicionales (pixie).\n",
    "Si se puede colocar algún contenedor entremedio se hace.\n",
    "Si nos damos cuenta que stack se puede llenar sin movimientos adicionales (aunque con contenedores distintos a los originales) volvemos a SF."
   ]
  },
  {
   "cell_type": "markdown",
   "metadata": {},
   "source": [
    "La función `fill_stack(s_d,n)` rellena el stack con `n` elementos. Puede usar elementos de cualquier stack con menor o igual altura. Si el stack está ordenado intenta mantener el orden o comenzar una pila invertida. Si stack desordenado coloca menor elemento mayor o igual al top."
   ]
  },
  {
   "cell_type": "code",
   "execution_count": 17,
   "metadata": {},
   "outputs": [],
   "source": [
    "def select_origin_stack(layout, dest, ori, rank):\n",
    "    s_d = layout.stacks[dest]\n",
    "    top_d = s_d[-1]\n",
    "    best_eval=-1000000;\n",
    "    best_orig=None\n",
    "    orig=-1;\n",
    "\n",
    "    for orig in range(len(layout.stacks)):\n",
    "            if orig==dest or orig ==ori: continue\n",
    "            s_o = layout.stacks[orig]\n",
    "\n",
    "            if len(s_o)==0: continue           \n",
    "            c=gvalue(s_o)\n",
    "            if c in rank and rank[c] < layout.H-len(s_d): continue\n",
    "\n",
    "            ev=0\n",
    "\n",
    "            if layout.is_sorted_stack(dest) and c<=top_d:\n",
    "                #c can be well-placed: the sorted stack maximizing c is preferred.\n",
    "                ev = 10000 + 100*c\n",
    "            elif not layout.is_sorted_stack(dest) and c>=top_d:\n",
    "                #unsorted stack with c>=top_d minimizing c is preferred\n",
    "                ev = -c\n",
    "            else:\n",
    "                ev = -100 - c \n",
    "\n",
    "            if ev > best_eval:\n",
    "                best_eval=ev\n",
    "                best_orig=orig\n",
    "\n",
    "    return best_orig"
   ]
  },
  {
   "cell_type": "code",
   "execution_count": 18,
   "metadata": {},
   "outputs": [],
   "source": [
    "def fill_stack(layout, s_d, n, ori, rank):\n",
    "    for i in range(n):\n",
    "        s_o = select_origin_stack(layout, s_d, ori, rank)\n",
    "        layout.move(s_o,s_d)\n",
    "\n",
    "def get_ranks(stack):\n",
    "    r=1\n",
    "    rank = {}\n",
    "    for i in sorted(stack, reverse=True):\n",
    "        rank[i] = r\n",
    "        r += 1\n",
    "    return rank"
   ]
  },
  {
   "cell_type": "code",
   "execution_count": 19,
   "metadata": {},
   "outputs": [],
   "source": [
    "import numpy as np\n",
    "def capacity(layout, s_o):\n",
    "    capacity = 0\n",
    "    h = np.zeros(len(layout.stacks))\n",
    "    for i in range(len(layout.stacks)):\n",
    "        if i==s_o: continue\n",
    "        capacity += layout.H - len(layout.stacks[i])\n",
    "        h[i] = layout.H\n",
    "    return h.astype(int), capacity\n",
    "\n",
    "\n",
    "def SDpp(layout, s_o, rank):\n",
    "    hmax, capac = capacity(layout,s_o) # espacio libre\n",
    "    ss_o = layout.stacks[s_o]\n",
    "    while len(layout.stacks[s_o])>0:\n",
    "        top = gvalue(ss_o)\n",
    "        s_d = select_destination_stack (layout, s_o, max_pos=rank[top])\n",
    "        pos = hmax[s_d]-len(layout.stacks[s_d])\n",
    "        slack = capac-len(ss_o) # holgura\n",
    "        if rank[top] < pos - slack:  # rellenar stack s_d\n",
    "            #c=layout.stacks[s_o].pop(-1)\n",
    "            fill_stack(layout, s_d, (pos - slack) - rank[top], s_o, rank)\n",
    "            #layout.stacks[s_o].append(c)\n",
    "        if rank[top] < pos: # se reduce máxima altura\n",
    "            hmax[s_d] -= pos - rank[top]\n",
    "            capac -= pos - rank[top]\n",
    "        capac -= 1\n",
    "        layout.move(s_o,s_d)"
   ]
  },
  {
   "cell_type": "code",
   "execution_count": 20,
   "metadata": {},
   "outputs": [],
   "source": [
    "def SFpp(layout, s_d, rank, n=10):\n",
    "    ub = 100\n",
    "    cont = 0\n",
    "    for r in rank:\n",
    "        while True:\n",
    "            (s, pos) = search_highest(layout, r, ub, s_d)\n",
    "            if layout.sorted_elements[s] > len(layout.stacks[s])+pos: break #element is sorted\n",
    "            c=force_move(layout, s, pos, s_d)\n",
    "            ub=r\n",
    "            cont+=1\n",
    "            if cont == n: return\n",
    "            if r==c: break\n",
    "    while cont < n:\n",
    "        SF_move_d(layout, s_d)\n",
    "        cont += 1"
   ]
  },
  {
   "cell_type": "code",
   "execution_count": 21,
   "metadata": {},
   "outputs": [],
   "source": [
    "def force_move(layout, s_o, pos, s_d): #pixie\n",
    "    while pos<-1:\n",
    "        s_tmp = select_destination_stack(layout, s_o, black_list=[s_d])\n",
    "        layout.move(s_o,s_tmp)\n",
    "        pos += 1\n",
    "    return layout.move(s_o,s_d)\n",
    "\n",
    "def search_highest(layout, c, ub, s_d):\n",
    "    ret = None\n",
    "    for pos in range(-1,-10,-1):\n",
    "        max_c = 0\n",
    "        for s in range(len(layout.stacks)):\n",
    "            if s==s_d: continue\n",
    "            ss = layout.stacks[s]\n",
    "            if len(ss) < -pos: continue\n",
    "            if ss[pos]>=c and ss[pos]<=ub and ss[pos]>max_c: \n",
    "                max_c=ss[pos]\n",
    "                ret= (s,pos)\n",
    "        if ret != None: return ret\n",
    "    return None\n",
    "            \n",
    "\n"
   ]
  },
  {
   "cell_type": "code",
   "execution_count": 401,
   "metadata": {},
   "outputs": [
    {
     "data": {
      "text/plain": [
       "[[58, 55, 52, 35, 29, 26, 25, 20, 19, 17, 16, 10],\n",
       " [53, 51, 32, 30, 28, 22, 13, 11, 9, 8, 2],\n",
       " [57, 44, 40, 39, 37, 33, 23, 5, 3, 1],\n",
       " [54, 48, 45, 43, 41, 36, 34, 7, 6, 4],\n",
       " [59, 56, 46, 42, 38, 31, 18, 15, 12],\n",
       " [60, 50, 49, 47, 27, 24, 21, 14]]"
      ]
     },
     "execution_count": 401,
     "metadata": {},
     "output_type": "execute_result"
    }
   ],
   "source": [
    "s_o = 5\n",
    "rank = get_ranks(layout.stacks[s_o])\n",
    "SDpp(layout, s_o, rank)\n",
    "layout.stacks\n",
    "\n",
    "SFpp(layout, s_o, rank, 10)\n",
    "layout.stacks"
   ]
  },
  {
   "cell_type": "code",
   "execution_count": 403,
   "metadata": {},
   "outputs": [
    {
     "data": {
      "text/plain": [
       "128"
      ]
     },
     "execution_count": 403,
     "metadata": {},
     "output_type": "execute_result"
    }
   ],
   "source": [
    "len(layout.moves)"
   ]
  },
  {
   "cell_type": "code",
   "execution_count": 141,
   "metadata": {},
   "outputs": [
    {
     "data": {
      "text/plain": [
       "[[26, 20, 25, 11, 19, 2, 29, 58, 35, 55, 5, 30],\n",
       " [53, 51],\n",
       " [3, 57, 1, 44, 39, 23, 37, 33, 40, 52, 22, 32],\n",
       " [6, 54, 36, 7, 10, 48, 45, 34, 41, 13, 17, 16],\n",
       " [38, 12, 18, 31, 15, 46, 56, 42, 59, 8, 9, 28],\n",
       " [24, 14, 50, 27, 47, 49, 60, 21, 4, 43]]"
      ]
     },
     "execution_count": 141,
     "metadata": {},
     "output_type": "execute_result"
    }
   ],
   "source": [
    "force_move(layout,5,-2,1)\n",
    "layout.stacks"
   ]
  },
  {
   "cell_type": "code",
   "execution_count": 65,
   "metadata": {},
   "outputs": [
    {
     "data": {
      "text/plain": [
       "[[26, 20, 25, 11, 19, 2, 29, 58, 35, 55],\n",
       " [32, 16, 51, 53, 30, 5, 28, 9, 22],\n",
       " [3, 57, 1, 44, 39, 23, 37, 33, 40, 52],\n",
       " [6, 54, 36, 7, 10, 48, 45, 34, 41, 13, 17],\n",
       " [38, 12, 18, 31, 15, 46, 56, 42, 59, 8],\n",
       " [24, 14, 50, 27, 47, 49, 60, 21, 4, 43]]"
      ]
     },
     "execution_count": 65,
     "metadata": {},
     "output_type": "execute_result"
    }
   ],
   "source": [
    "lazy_greedy(layout)\n",
    "layout.stacks"
   ]
  },
  {
   "cell_type": "code",
   "execution_count": 160,
   "metadata": {},
   "outputs": [
    {
     "data": {
      "text/plain": [
       "[[58, 55, 52, 40, 33, 29, 26, 25, 20, 19, 11, 8],\n",
       " [53, 51, 43, 32, 28, 16, 9, 5, 4, 17, 2],\n",
       " [57, 44, 39, 37, 30, 23, 22, 21, 3, 1],\n",
       " [6, 54, 36, 7, 10, 48, 45, 34, 41, 13, 35],\n",
       " [38, 12, 18, 31, 15, 46, 56, 42, 59],\n",
       " [24, 14, 50, 27, 47, 49, 60]]"
      ]
     },
     "execution_count": 160,
     "metadata": {},
     "output_type": "execute_result"
    }
   ],
   "source": []
  },
  {
   "cell_type": "code",
   "execution_count": 16,
   "metadata": {},
   "outputs": [],
   "source": [
    "# lds() returns the length  \n",
    "# of the longest decreasing \n",
    "# subsequence in arr[] of size n \n",
    "def lds(arr, n): \n",
    "  \n",
    "    result = 0\n",
    "    lis = [0 for i in range(n)] \n",
    "  \n",
    "    # Initialize LIS values \n",
    "    # for all indexes  \n",
    "    for i in range(n): \n",
    "        lis[i] = 1\n",
    "  \n",
    "    # Compute optimized LIS values  \n",
    "    # in bottom up manner  \n",
    "    for i in range(1, n): \n",
    "        for j in range(i): \n",
    "            if ( arr[i] < arr[j] and\n",
    "                lis[i] < lis[j] + 1): \n",
    "                lis[i] = lis[j] + 1\n",
    "             \n",
    "    return lis\n",
    "\n",
    "  "
   ]
  },
  {
   "cell_type": "code",
   "execution_count": null,
   "metadata": {},
   "outputs": [],
   "source": []
  },
  {
   "cell_type": "code",
   "execution_count": null,
   "metadata": {},
   "outputs": [],
   "source": []
  },
  {
   "cell_type": "code",
   "execution_count": 18,
   "metadata": {},
   "outputs": [
    {
     "name": "stdout",
     "output_type": "stream",
     "text": [
      "[26, 20, 25, 11, 19, 2, 29, 58, 35, 55]\n",
      "[1, 2, 2, 3, 3, 4, 1, 1, 2, 2] 1\n"
     ]
    },
    {
     "data": {
      "text/plain": [
       "4"
      ]
     },
     "execution_count": 18,
     "metadata": {},
     "output_type": "execute_result"
    }
   ],
   "source": [
    "# Driver Code \n",
    "arr = layout.stacks[0]\n",
    "n = len(arr) \n",
    "print(layout.stacks[0])\n",
    "arr2 = lds(arr, n)\n",
    "print(arr2, arr2.index(2)) \n",
    "min(max(arr2),5)\n"
   ]
  },
  {
   "cell_type": "code",
   "execution_count": 19,
   "metadata": {},
   "outputs": [],
   "source": [
    "import numpy as np\n",
    "# genera una secuencia de N elementos que deberían ser colocados en stack destino\n",
    "def gen_sequence(arr, N):\n",
    "    lds_arr = lds(arr, len(arr))\n",
    "    T = min(max(lds_arr),N)\n",
    "    \n",
    "    first = lds_arr.index(T)\n",
    "    print(lds_arr)\n",
    "    while len(arr)-first-1 < N-T:\n",
    "        T -= 1\n",
    "        first = lds_arr.index(T)\n",
    "    \n",
    "    \n",
    "    seq = []\n",
    "    cindex=first\n",
    "    while True:\n",
    "        curr_index = cindex\n",
    "        curr = lds_arr[cindex]\n",
    "        seq.append(cindex)\n",
    "        \n",
    "        if curr==1: break\n",
    "        \n",
    "        cindex -= 1\n",
    "        while lds_arr[cindex]!=curr-1 or arr[cindex]<arr[curr_index] : cindex -= 1\n",
    "    \n",
    "    print(seq)\n",
    "            \n",
    "    if N-T > 0:\n",
    "        arr2 = np.array(arr[first+1:len(arr)])\n",
    "        ind = arr2.argsort()[:(N-T)]\n",
    "        ind = np.sort(ind)\n",
    "        \n",
    "        for el in ind:\n",
    "            seq.insert(0,el+first+1)\n",
    "        \n",
    "   \n",
    "    return seq\n",
    "    "
   ]
  },
  {
   "cell_type": "code",
   "execution_count": 20,
   "metadata": {},
   "outputs": [
    {
     "name": "stdout",
     "output_type": "stream",
     "text": [
      "[1, 2, 1, 3]\n",
      "[3, 1, 0]\n",
      "[3, 1, 0]\n"
     ]
    }
   ],
   "source": [
    "st = [32, 16, 51, 5]\n",
    "seq=gen_sequence(st, 3)\n",
    "print(seq)"
   ]
  },
  {
   "cell_type": "code",
   "execution_count": 21,
   "metadata": {},
   "outputs": [],
   "source": [
    "def sd_move2(layout, sd_o, sd_d, H):\n",
    "    seq = gen_sequence( layout.stacks[sd_o], H-len( layout.stacks[sd_d]))\n",
    "    print([layout.stacks[sd_o][x] for x in seq])\n",
    "    for s in seq:\n",
    "        layout.move(sd_o,sd_d,s)\n",
    "    "
   ]
  },
  {
   "cell_type": "code",
   "execution_count": 25,
   "metadata": {},
   "outputs": [],
   "source": [
    "stacks=[[26,20,25,11,19,2,29,58,35,55],\n",
    "[32,16,51,53,30,5,28,9,22,17],\n",
    "[3,57,1,44,39,23,37,33,40,52],\n",
    "[6,54,36,7,10,48,45,34,41,13],\n",
    "[38,12,18,31,15,46,56,42,59,8],\n",
    "[24,14,50,27,47,49,60,21,4,43]]\n",
    "layout = Layout(stacks, 12) #el numero es la altura máxima"
   ]
  },
  {
   "cell_type": "code",
   "execution_count": 26,
   "metadata": {},
   "outputs": [
    {
     "data": {
      "text/plain": [
       "[[26, 20, 25, 11, 19, 2, 29, 58, 35, 55],\n",
       " [32, 16, 51, 53, 30, 5, 28, 9, 22, 17],\n",
       " [3, 57, 1, 44, 39, 23, 37, 33, 40, 52],\n",
       " [6, 54, 36, 7, 10, 48, 45, 34, 41, 13],\n",
       " [38, 12, 18, 31, 15, 46, 56, 42, 59, 8],\n",
       " [24, 14, 50, 27, 47, 49, 60, 21, 4, 43]]"
      ]
     },
     "execution_count": 26,
     "metadata": {},
     "output_type": "execute_result"
    }
   ],
   "source": [
    "layout.stacks"
   ]
  },
  {
   "cell_type": "code",
   "execution_count": 24,
   "metadata": {},
   "outputs": [
    {
     "ename": "NameError",
     "evalue": "name 'greedy2' is not defined",
     "output_type": "error",
     "traceback": [
      "\u001b[1;31m---------------------------------------------------------------------------\u001b[0m",
      "\u001b[1;31mNameError\u001b[0m                                 Traceback (most recent call last)",
      "\u001b[1;32m<ipython-input-24-b76c3e0dda43>\u001b[0m in \u001b[0;36m<module>\u001b[1;34m()\u001b[0m\n\u001b[1;32m----> 1\u001b[1;33m \u001b[0mgreedy2\u001b[0m\u001b[1;33m(\u001b[0m\u001b[0mlayout\u001b[0m\u001b[1;33m)\u001b[0m\u001b[1;33m\u001b[0m\u001b[1;33m\u001b[0m\u001b[0m\n\u001b[0m",
      "\u001b[1;31mNameError\u001b[0m: name 'greedy2' is not defined"
     ]
    }
   ],
   "source": [
    "greedy2(layout)"
   ]
  },
  {
   "cell_type": "code",
   "execution_count": 49,
   "metadata": {},
   "outputs": [
    {
     "data": {
      "text/plain": [
       "(0, 165)"
      ]
     },
     "execution_count": 49,
     "metadata": {},
     "output_type": "execute_result"
    }
   ],
   "source": [
    "layout.unsorted_stacks,layout.steps"
   ]
  },
  {
   "cell_type": "code",
   "execution_count": 38,
   "metadata": {},
   "outputs": [],
   "source": [
    "def greedy2(layout):\n",
    "\n",
    "    ind = np.argsort(layout.sorted_elements)\n",
    "    i = 0\n",
    "    while layout.is_sorted_stack(ind[i]):\n",
    "        i+=1\n",
    "        \n",
    "    s_o = ind[i]\n",
    "    print(s_o)\n",
    "    \n",
    "    \n",
    "    C = np.zeros(len(layout.stacks), int)\n",
    "    for i in range(len(layout.stacks)):\n",
    "        if i!=s_o:\n",
    "            C[i] = layout.H-len(layout.stacks[i])\n",
    "            \n",
    "    stacks = (-C).argsort()\n",
    "    print(C)\n",
    "\n",
    "    for s_d in stacks:\n",
    "        if C[s_d] >0:\n",
    "            sd_move2(layout, s_o, s_d ,layout.H)\n",
    "\n",
    "    for s in layout.stacks:\n",
    "        print(s)\n",
    "        \n",
    "    lazy_greedy(layout)\n",
    "    return layout.stacks"
   ]
  },
  {
   "cell_type": "code",
   "execution_count": 624,
   "metadata": {},
   "outputs": [],
   "source": [
    "# Y también retroceder hasta el comienzo para poder ver los paso uno a uno\n",
    "while layout.current_step-1 >0: \n",
    "    layout.prev()"
   ]
  },
  {
   "cell_type": "code",
   "execution_count": 16,
   "metadata": {},
   "outputs": [
    {
     "ename": "NameError",
     "evalue": "name 'layout' is not defined",
     "output_type": "error",
     "traceback": [
      "\u001b[1;31m---------------------------------------------------------------------------\u001b[0m",
      "\u001b[1;31mNameError\u001b[0m                                 Traceback (most recent call last)",
      "\u001b[1;32m<ipython-input-16-9ca23ed7b32f>\u001b[0m in \u001b[0;36m<module>\u001b[1;34m()\u001b[0m\n\u001b[0;32m      1\u001b[0m \u001b[1;31m#Luego de quedar al comienzo, cada vez que ejecutamos esto avanzamos un paso\u001b[0m\u001b[1;33m\u001b[0m\u001b[1;33m\u001b[0m\u001b[1;33m\u001b[0m\u001b[0m\n\u001b[1;32m----> 2\u001b[1;33m \u001b[0mlayout\u001b[0m\u001b[1;33m.\u001b[0m\u001b[0mnext\u001b[0m\u001b[1;33m(\u001b[0m\u001b[1;32mTrue\u001b[0m\u001b[1;33m)\u001b[0m\u001b[1;33m\u001b[0m\u001b[1;33m\u001b[0m\u001b[0m\n\u001b[0m",
      "\u001b[1;31mNameError\u001b[0m: name 'layout' is not defined"
     ]
    }
   ],
   "source": [
    "#Luego de quedar al comienzo, cada vez que ejecutamos esto avanzamos un paso\n",
    "layout.next(True)"
   ]
  },
  {
   "cell_type": "code",
   "execution_count": null,
   "metadata": {},
   "outputs": [],
   "source": []
  },
  {
   "cell_type": "code",
   "execution_count": null,
   "metadata": {},
   "outputs": [],
   "source": [
    "from tkinter import * \n",
    "import tkinter\n",
    "\n",
    "def op():\n",
    "    labelframe=LabelFrame(top, text=\"\")\n",
    "    labelframe1=labelframe\n",
    "    return labelframe\n",
    "\n",
    "#/////////////////////////////////////////    \n",
    "top = Tk()  \n",
    "#top.geometry(\"800x500\")  \n",
    "#Se obtiene tamaño de la pantalla\n",
    "windowWidth = top.winfo_reqwidth()\n",
    "windowHeight = top.winfo_reqheight()\n",
    "positionRight = int(top.winfo_screenwidth()/4 - windowWidth/4)\n",
    "positionDown = int(top.winfo_screenheight()/4 - windowHeight/4)\n",
    "\n",
    "top.geometry(\"+{}+{}\".format(positionRight, positionDown))\n",
    "#Se crean los panels\n",
    "\n",
    "#columnas ahora con colores\n",
    "labelframe1 = LabelFrame(top, text=\"\")\n",
    "labelframe1.grid(padx=10, pady=10,columnspan=len(layout.stacks), rowspan=layout.H)\n",
    "\n",
    "\n",
    "for i in range(len(layout.stacks)):\n",
    "    #se obtiene el stack\n",
    "    s=layout.stacks[i]\n",
    "    #color\n",
    "    aux=24500\n",
    "    cont=1\n",
    "    for item in s:\n",
    "        if item <= aux:\n",
    "            aux=item\n",
    "            cont+=1\n",
    "        else:\n",
    "            break\n",
    "    cont+=-1\n",
    "    #Color de la columna\n",
    "    color=len(s)-cont\n",
    "    #/////////\n",
    "    height=layout.H-len(s)\n",
    "    #print(color)\n",
    "    j=0\n",
    "    #Aqui se imprimen los cuadros vacios para que no quede al reves el visual\n",
    "    while j < height:\n",
    "        tkinter.Label(labelframe1, text=\"\",borderwidth=10, bg=\"white\", padx=9, pady=1  ).grid(row=j,column=i)\n",
    "        j+=1\n",
    "    \n",
    "    #Se imprimen en pantalla los valores\n",
    "    for item in reversed(s):\n",
    "        if color>0:\n",
    "            if item > 9:\n",
    "                tkinter.Label(labelframe1, text=str(item),borderwidth=1,relief=\"solid\",padx=10,pady=10,bg=\"salmon\").grid(row=j,column=i)\n",
    "            else:\n",
    "                tkinter.Label(labelframe1, text=str(item),borderwidth=1,relief=\"solid\",padx=13, pady=10,bg=\"salmon\").grid(row=j,column=i)\n",
    "            color+=-1\n",
    "        else:\n",
    "            if item>9:\n",
    "                tkinter.Label(labelframe1, text=str(item),borderwidth=1,relief=\"solid\",padx=10, pady=10,bg=\"lime\" ).grid(row=j,column=i)\n",
    "            else:\n",
    "                tkinter.Label(labelframe1, text=str(item),borderwidth=1,relief=\"solid\",padx=13, pady=10,bg=\"lime\" ).grid(row=j,column=i)\n",
    "        #veamos si se puede pintar\n",
    "        j+=1\n",
    "\n",
    "\n",
    "#layout.H tiene la altura\n",
    "#layout.moves tiene los movimientos\n",
    "#layout.stacks tiene los stacks\n",
    "\n",
    "\n",
    "#BOTONES\n",
    "labelframe2 = LabelFrame(top, text=\"\")\n",
    "labelframe2.grid(padx=20, pady=20,columnspan=len(layout.stacks), rowspan=1)\n",
    "\n",
    "button = tkinter.Button(labelframe2, text=\"prev\",padx=13, command=op)\n",
    "button.grid(row=0, column=1)\n",
    "\n",
    "button2 = tkinter.Button(labelframe2, text=\"next\",padx=13)\n",
    "button2.grid(row=0, column=6)\n",
    "#/////////////////////////////////////////////////////////////////\n",
    "top.mainloop()"
   ]
  },
  {
   "cell_type": "code",
   "execution_count": null,
   "metadata": {},
   "outputs": [],
   "source": []
  }
 ],
 "metadata": {
  "kernelspec": {
   "display_name": "Python 3",
   "language": "python",
   "name": "python3"
  },
  "language_info": {
   "codemirror_mode": {
    "name": "ipython",
    "version": 3
   },
   "file_extension": ".py",
   "mimetype": "text/x-python",
   "name": "python",
   "nbconvert_exporter": "python",
   "pygments_lexer": "ipython3",
   "version": "3.7.3"
  }
 },
 "nbformat": 4,
 "nbformat_minor": 4
}

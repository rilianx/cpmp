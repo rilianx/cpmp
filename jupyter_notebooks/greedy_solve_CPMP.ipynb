{
 "cells": [
  {
   "cell_type": "markdown",
   "metadata": {},
   "source": [
    "Greedy Solve\n",
    "============"
   ]
  },
  {
   "cell_type": "code",
   "execution_count": 1,
   "metadata": {},
   "outputs": [],
   "source": [
    "def compute_sorted_elements(stack):\n",
    "    if len(stack)==0: return 0\n",
    "    sorted_elements=1\n",
    "    while(sorted_elements<len(stack) and stack[sorted_elements] <= stack[sorted_elements-1]):\n",
    "        sorted_elements +=1\n",
    "    \n",
    "    return sorted_elements\n",
    "\n",
    "def gvalue(stack):\n",
    "    if len(stack)==0: return 100\n",
    "    else: return stack[-1]\n",
    "    "
   ]
  },
  {
   "cell_type": "code",
   "execution_count": 2,
   "metadata": {
    "jupyter": {
     "source_hidden": true
    }
   },
   "outputs": [],
   "source": [
    "class Layout:\n",
    "    def __init__(self, stacks, H):\n",
    "        self.stacks = stacks\n",
    "        self.sorted_elements = []\n",
    "        self.sorted_stack = []\n",
    "        self.unsorted_stacks = 0\n",
    "        self.steps = 0\n",
    "        self.current_step = 0\n",
    "        self.moves = []\n",
    "        self.H = H\n",
    "        j=0\n",
    "        \n",
    "        for stack in stacks:\n",
    "            self.sorted_elements.append(compute_sorted_elements(stack))\n",
    "            if not self.is_sorted_stack(j):\n",
    "                self.unsorted_stacks += 1\n",
    "                self.sorted_stack.append(False)\n",
    "            else: self.sorted_stack.append(True)\n",
    "            j += 1\n",
    "    \n",
    "    def move(self,i,j):\n",
    "        c = self.stacks[i][-1]\n",
    "        if self.is_sorted_stack(i):\n",
    "            self.sorted_elements[i] -= 1\n",
    "            \n",
    "        if self.is_sorted_stack(j) and gvalue(self.stacks[j]) >= c:\n",
    "            self.sorted_elements[j] += 1\n",
    "            \n",
    "        self.stacks[i].pop()\n",
    "        self.stacks[j].append(c)\n",
    "        self.is_sorted_stack(i)\n",
    "        self.is_sorted_stack(j)\n",
    "        self.steps += 1\n",
    "        self.current_step += 1\n",
    "        self.moves.append((i,j))\n",
    "        \n",
    "    def highlighted_print(self, stack_set):\n",
    "        for stack in self.stacks:\n",
    "            if stack in stack_set:\n",
    "                print('\\033[94m'+str(stack)+'\\033[0m')\n",
    "            else:\n",
    "                print(stack)\n",
    "    \n",
    "    def next(self, printed=False):\n",
    "        if self.current_step == self.steps: \n",
    "            if printed: self.highlighted_print([])\n",
    "            return\n",
    "        i,j = self.moves[self.current_step]\n",
    "        self.current_step += 1\n",
    "        c=self.stacks[i].pop()\n",
    "        self.stacks[j].append(c)\n",
    "        \n",
    "        if printed:\n",
    "            s=[]\n",
    "            if(self.current_step < self.steps):\n",
    "                i,j = self.moves[self.current_step]\n",
    "                s.append(self.stacks[i]), s.append(self.stacks[j])\n",
    "            self.highlighted_print(s)\n",
    "                \n",
    "\n",
    "    def prev(self, printed=False):\n",
    "        if self.current_step == 0:\n",
    "            if printed: self.highlighted_print([])\n",
    "            return\n",
    "        \n",
    "        self.current_step -= 1\n",
    "        j,i = self.moves[self.current_step]\n",
    "        c=self.stacks[i].pop()\n",
    "        self.stacks[j].append(c)\n",
    "\n",
    "        if printed:   \n",
    "            s=[]\n",
    "            if(self.current_step-1 > 0):\n",
    "                i,j = self.moves[self.current_step-1]\n",
    "                s.append(self.stacks[i]), s.append(self.stacks[j])\n",
    "            self.highlighted_print(s)\n",
    "        \n",
    "    def is_sorted_stack(self, j):\n",
    "        sorted = len(self.stacks[j]) == self.sorted_elements[j]\n",
    "        if j<len(self.sorted_stack) and self.sorted_stack[j] != sorted: \n",
    "            self.sorted_stack[j] = sorted\n",
    "            if sorted == True: self.unsorted_stacks -= 1\n",
    "            else: self.unsorted_stacks += 1\n",
    "        return sorted\n",
    "    \n",
    "    \n",
    "        "
   ]
  },
  {
   "cell_type": "code",
   "execution_count": 3,
   "metadata": {
    "jupyter": {
     "source_hidden": true
    }
   },
   "outputs": [],
   "source": [
    "def read_file(file, H):\n",
    "    with open(file) as f:\n",
    "        S, C = [int(x) for x in next(f).split()] # read first line\n",
    "        stacks = []\n",
    "        for line in f: # read rest of lines\n",
    "            stack = [int(x) for x in line.split()[1::]]\n",
    "            #if stack[0] == 0: stack.pop()\n",
    "            stacks.append(stack)\n",
    "            \n",
    "        layout = Layout(stacks,H)\n",
    "    return layout"
   ]
  },
  {
   "cell_type": "code",
   "execution_count": 4,
   "metadata": {
    "jupyter": {
     "source_hidden": true
    }
   },
   "outputs": [],
   "source": [
    "def select_destination_stack(layout, orig):\n",
    "    s_o = layout.stacks[orig]\n",
    "    c = s_o[-1]\n",
    "    best_eval=-1000000;\n",
    "    best_dest=None\n",
    "    dest=-1;\n",
    "\n",
    "    for dest in range(len(layout.stacks)):\n",
    "            if orig==dest: continue\n",
    "            s_d = layout.stacks[dest]\n",
    "\n",
    "            if(layout.H == len(s_d)): continue\n",
    "            top_d=gvalue(s_d)\n",
    "\n",
    "            ev=0\n",
    "\n",
    "            if layout.is_sorted_stack(dest) and c<=top_d:\n",
    "              #c can be well-placed: the sorted stack minimizing top_d is preferred.\n",
    "              ev = 10000 - 100*top_d\n",
    "            elif not layout.is_sorted_stack(dest) and c>=top_d:\n",
    "              #unsorted stack with c>=top_d maximizing top_d is preferred\n",
    "              ev = top_d\n",
    "            elif layout.is_sorted_stack(dest):\n",
    "              #sorted with minimal top_d\n",
    "              ev = -100 - top_d\n",
    "            else:\n",
    "              #unsorted with minimal numer of auxiliary stacks\n",
    "              ev = -10000 #+ required_stacks(dest)\n",
    "\n",
    "            if ev > best_eval:\n",
    "                best_eval=ev\n",
    "                best_dest=dest\n",
    "\n",
    "    return best_dest"
   ]
  },
  {
   "cell_type": "code",
   "execution_count": 5,
   "metadata": {
    "jupyter": {
     "source_hidden": true
    }
   },
   "outputs": [],
   "source": [
    "def reachable_height(layout, i):\n",
    "    if not layout.is_sorted_stack(i): return -1;\n",
    "    \n",
    "    h = len(layout.stacks[i])\n",
    "    if h==layout.H: return size;\n",
    "    \n",
    "    stack=layout.stacks[i]\n",
    "    all_stacks = True #True: all the bad located tops can be placed in stack\n",
    "    \n",
    "    for k in range(len(layout.stacks)):\n",
    "        if k==i: continue\n",
    "        if layout.is_sorted_stack(k): continue\n",
    "            \n",
    "        stack_k=layout.stacks[k]\n",
    "        unsorted = len(stack_k)-layout.sorted_elements[k]\n",
    "        prev = 1000;\n",
    "        for j in range (1,unsorted+1):\n",
    "            if stack_k[-j] <= prev and stack_k[-j] <=j:\n",
    "                h += 1\n",
    "                if h==layout.H: return h\n",
    "                prev = stack_k[-j]\n",
    "            else: \n",
    "                if j==1: all_stacks=False\n",
    "                break\n",
    "                \n",
    "    if all_stacks: return layout.H\n",
    "    else: return h\n",
    "             "
   ]
  },
  {
   "cell_type": "code",
   "execution_count": 6,
   "metadata": {
    "jupyter": {
     "source_hidden": true
    }
   },
   "outputs": [],
   "source": [
    "def SF_move(layout):\n",
    "    s_o = None\n",
    "    s_d = None\n",
    "    min_dif = 10000\n",
    "    for i in range(len(layout.stacks)):\n",
    "        if(layout.is_sorted_stack(i) and len(layout.stacks[i]) < layout.H):\n",
    "            top = gvalue(layout.stacks[i])\n",
    "            for k in range(len(layout.stacks)):\n",
    "                if k!=i and not layout.is_sorted_stack(k):\n",
    "                    if layout.stacks[k][-1] <= top and (top - layout.stacks[k][-1]) < min_dif:\n",
    "                        min_dif = top - layout.stacks[k][-1]\n",
    "                        s_d=i; s_o = k\n",
    "    if s_o != None: \n",
    "        layout.move(s_o,s_d)\n",
    "        return True\n",
    "    return False"
   ]
  },
  {
   "cell_type": "code",
   "execution_count": 7,
   "metadata": {
    "jupyter": {
     "source_hidden": true
    }
   },
   "outputs": [],
   "source": [
    "def SD_move(layout):\n",
    "    best_ev = 0\n",
    "    for i in range(len(layout.stacks)):\n",
    "        prom = sum(layout.stacks[i]) / len(layout.stacks[i]) \n",
    "        ev = 10000 - 100*len(layout.stacks[i]) - prom\n",
    "        if ev > best_ev:\n",
    "            best_ev = ev\n",
    "            s_o = i\n",
    "            \n",
    "    while len(layout.stacks[s_o])>0:\n",
    "        s_d = select_destination_stack(layout,s_o)\n",
    "        layout.move(s_o,s_d)\n",
    "        if reachable_height(layout,s_o)==layout.H: return    "
   ]
  },
  {
   "cell_type": "code",
   "execution_count": 8,
   "metadata": {
    "jupyter": {
     "source_hidden": true
    }
   },
   "outputs": [],
   "source": [
    "def greedy_solve(layout):\n",
    "    while layout.unsorted_stacks>0:\n",
    "        if not SF_move(layout):\n",
    "            SD_move(layout)\n",
    "    return layout.steps"
   ]
  },
  {
   "cell_type": "code",
   "execution_count": 9,
   "metadata": {
    "jupyter": {
     "source_hidden": true
    }
   },
   "outputs": [],
   "source": [
    "def solve_file(file,H):\n",
    "    layout = read_file(file,H)\n",
    "    greedy_solve(layout)\n",
    "    return layout"
   ]
  },
  {
   "cell_type": "markdown",
   "metadata": {},
   "source": [
    "Usando el Greedy_Solve\n",
    "--------------------\n",
    "\n",
    "Para resolver un problema basta con crear el layout como una lista de pilas: "
   ]
  },
  {
   "cell_type": "code",
   "execution_count": 10,
   "metadata": {},
   "outputs": [],
   "source": [
    "stacks=[[12],\n",
    " [3, 10, 8, 15, 14, 11, 6],\n",
    " [8, 13],\n",
    " [9, 15, 4, 6, 4],\n",
    " [4, 12, 10, 6],\n",
    " [14, 16, 9, 1, 12, 15, 3, 5],\n",
    " [13, 6],\n",
    " [5, 11, 12, 2, 7],\n",
    " [8, 10, 3, 8, 7, 1, 15],\n",
    " [9, 10, 11, 14, 6, 4, 11, 2],\n",
    " [16, 4],\n",
    " [7, 9, 4, 12, 2],\n",
    " [2, 15, 5, 6, 13, 12, 1, 5],\n",
    " [7, 13, 3, 14],\n",
    " [12, 1, 14, 16, 2, 5, 16, 13],\n",
    " [7]]"
   ]
  },
  {
   "cell_type": "markdown",
   "metadata": {},
   "source": [
    "Luego creamos el layout pasando las *pilas* y la **altura máxima H**"
   ]
  },
  {
   "cell_type": "code",
   "execution_count": 11,
   "metadata": {},
   "outputs": [],
   "source": [
    "layout = Layout(stacks, 8) #el numero es la altura máxima"
   ]
  },
  {
   "cell_type": "markdown",
   "metadata": {},
   "source": [
    "Para resolver llamamos a la función greedy_solve la que nos retorna la cantidad de pasos que realizó"
   ]
  },
  {
   "cell_type": "code",
   "execution_count": 12,
   "metadata": {
    "scrolled": true
   },
   "outputs": [
    {
     "data": {
      "text/plain": [
       "64"
      ]
     },
     "execution_count": 12,
     "metadata": {},
     "output_type": "execute_result"
    }
   ],
   "source": [
    "greedy_solve(layout)"
   ]
  },
  {
   "cell_type": "code",
   "execution_count": 13,
   "metadata": {
    "scrolled": true
   },
   "outputs": [
    {
     "data": {
      "text/plain": [
       "[[12, 11, 10, 7, 7, 7, 3, 2],\n",
       " [16, 15],\n",
       " [8, 8, 8, 7, 6, 5, 4, 3],\n",
       " [16, 15, 13, 12, 12, 12, 12, 11],\n",
       " [4, 3, 1],\n",
       " [14, 14, 11, 10],\n",
       " [13, 6, 6, 6, 6, 5, 5, 1],\n",
       " [5, 5, 4, 1],\n",
       " [8, 6],\n",
       " [9, 9],\n",
       " [16, 4, 4, 4, 3, 2, 2, 2],\n",
       " [7],\n",
       " [2],\n",
       " [16, 14, 13, 11, 10, 10, 9, 9],\n",
       " [12, 1],\n",
       " [15, 15, 15, 14, 14, 13, 13, 12]]"
      ]
     },
     "execution_count": 13,
     "metadata": {},
     "output_type": "execute_result"
    }
   ],
   "source": [
    "#Podemos ver el layout final\n",
    "layout.stacks"
   ]
  },
  {
   "cell_type": "code",
   "execution_count": 14,
   "metadata": {},
   "outputs": [],
   "source": [
    "# Y también retroceder hasta el comienzo para poder ver los paso uno a uno\n",
    "while layout.current_step-1 >0: \n",
    "    layout.prev()"
   ]
  },
  {
   "cell_type": "code",
   "execution_count": 15,
   "metadata": {
    "scrolled": true
   },
   "outputs": [
    {
     "name": "stdout",
     "output_type": "stream",
     "text": [
      "[12]\n",
      "[3, 10, 8, 15, 14, 11]\n",
      "[8, 13]\n",
      "\u001b[94m[9, 15, 4, 6, 4]\u001b[0m\n",
      "[4, 12, 10]\n",
      "[14, 16, 9, 1, 12, 15, 3, 5]\n",
      "[13, 6, 6, 6]\n",
      "[5, 11, 12, 2, 7]\n",
      "[8, 10, 3, 8, 7, 1, 15]\n",
      "[9, 10, 11, 14, 6, 4, 11, 2]\n",
      "\u001b[94m[16, 4]\u001b[0m\n",
      "[7, 9, 4, 12, 2]\n",
      "[2, 15, 5, 6, 13, 12, 1, 5]\n",
      "[7, 13, 3, 14]\n",
      "[12, 1, 14, 16, 2, 5, 16, 13]\n",
      "[7]\n"
     ]
    }
   ],
   "source": [
    "#Luego de quedar al comienzo, cada vez que ejecutamos esto avanzamos un paso\n",
    "layout.next(True)"
   ]
  },
  {
   "cell_type": "markdown",
   "metadata": {},
   "source": [
    "Tk"
   ]
  },
  {
   "cell_type": "code",
   "execution_count": 16,
   "metadata": {},
   "outputs": [],
   "source": [
    "#Retornamos al primer layout\n",
    "while layout.current_step-1 >0: \n",
    "    layout.prev()\n",
    "    \n",
    "layout.prev();"
   ]
  },
  {
   "cell_type": "code",
   "execution_count": 17,
   "metadata": {
    "scrolled": true
   },
   "outputs": [],
   "source": [
    "\n",
    "from tkinter import * \n",
    "import tkinter\n",
    "\n",
    "def op():\n",
    "    labelframe=LabelFrame(top, text=\"\")\n",
    "    labelframe1=labelframe\n",
    "    return labelframe\n",
    "\n",
    "#/////////////////////////////////////////    \n",
    "top = Tk()  \n",
    "#top.geometry(\"800x500\")  \n",
    "#Se obtiene tamaño de la pantalla\n",
    "windowWidth = top.winfo_reqwidth()\n",
    "windowHeight = top.winfo_reqheight()\n",
    "positionRight = int(top.winfo_screenwidth()/4 - windowWidth/4)\n",
    "positionDown = int(top.winfo_screenheight()/4 - windowHeight/4)\n",
    "\n",
    "top.geometry(\"+{}+{}\".format(positionRight, positionDown))\n",
    "#Se crean los panels\n",
    "\n",
    "#columnas ahora con colores\n",
    "labelframe1 = LabelFrame(top, text=\"\")\n",
    "labelframe1.grid(padx=10, pady=10,columnspan=len(layout.stacks), rowspan=layout.H)\n",
    "\n",
    "#h=0\n",
    "#for i in range(len(layout.stacks)):\n",
    "#    s=layout.stacks[i]\n",
    "#    #print(s)\n",
    "#    blank=layout.H-len(s)\n",
    "#    for l in range(len(s),blank):\n",
    "#        tkinter.Label(labelframe1, text=\"-\",borderwidth=10 ).grid(row=ff,column=i)\n",
    "#        print(len(s))\n",
    "#        print(blank)\n",
    "#        ff=ff+1\n",
    "#    for j in range(len(s)):\n",
    "#        sobras=h%2\n",
    "#        if sobras == 0:\n",
    "#            tkinter.Label(labelframe1, text=str(h),borderwidth=10 ).grid(row=j,column=i)\n",
    "#        else:\n",
    "#            tkinter.Label(labelframe1, text=str(h),borderwidth=10,fg=\"green\" ).grid(row=j,column=i)\n",
    "#            \n",
    "#        #tkinter.Label(labelframe1, text=str(i)+\",\"+str(j),borderwidth=10 ).grid(row=j,column=i)\n",
    "#        h=h+1\n",
    "\n",
    "for i in range(len(layout.stacks)):\n",
    "    #se obtiene el stack\n",
    "    s=layout.stacks[i]\n",
    "    #color\n",
    "    aux=24500\n",
    "    cont=1\n",
    "    for item in s:\n",
    "        if item <= aux:\n",
    "            aux=item\n",
    "            cont+=1\n",
    "        else:\n",
    "            break\n",
    "    cont+=-1\n",
    "    #Color de la columna\n",
    "    color=len(s)-cont\n",
    "    #/////////\n",
    "    height=layout.H-len(s)\n",
    "    #print(color)\n",
    "    j=0\n",
    "    #Aqui se imprimen los cuadros vacios para que no quede al reves el visual\n",
    "    while j < height:\n",
    "        tkinter.Label(labelframe1, text=\"\",borderwidth=10, bg=\"white\", padx=9, pady=1  ).grid(row=j,column=i)\n",
    "        j+=1\n",
    "    \n",
    "    #Se imprimen en pantalla los valores\n",
    "    for item in reversed(s):\n",
    "        if color>0:\n",
    "            if item > 9:\n",
    "                tkinter.Label(labelframe1, text=str(item),borderwidth=1,relief=\"solid\",padx=10,pady=10,bg=\"red\").grid(row=j,column=i)\n",
    "            else:\n",
    "                tkinter.Label(labelframe1, text=str(item),borderwidth=1,relief=\"solid\",padx=13, pady=10,bg=\"red\").grid(row=j,column=i)\n",
    "            color+=-1\n",
    "        else:\n",
    "            if item>9:\n",
    "                tkinter.Label(labelframe1, text=str(item),borderwidth=1,relief=\"solid\",padx=10, pady=10,bg=\"cyan\" ).grid(row=j,column=i)\n",
    "            else:\n",
    "                tkinter.Label(labelframe1, text=str(item),borderwidth=1,relief=\"solid\",padx=13, pady=10,bg=\"cyan\" ).grid(row=j,column=i)\n",
    "        #veamos si se puede pintar\n",
    "        j+=1\n",
    "\n",
    "\n",
    "#layout.H tiene la altura\n",
    "#layout.moves tiene los movimientos\n",
    "#layout.stacks tiene los stacks\n",
    "\n",
    "\n",
    "#BOTONES\n",
    "labelframe2 = LabelFrame(top, text=\"\")\n",
    "labelframe2.grid(padx=20, pady=20,columnspan=len(layout.stacks), rowspan=1)\n",
    "\n",
    "#button = tkinter.Button(labelframe2, text=\"prev\",padx=13, command=op)\n",
    "#button.grid(row=0, column=1)\n",
    "\n",
    "#button2 = tkinter.Button(labelframe2, text=\"next\",padx=13)\n",
    "#button2.grid(row=0, column=6)\n",
    "#/////////////////////////////////////////////////////////////////\n",
    "top.mainloop()  "
   ]
  },
  {
   "cell_type": "code",
   "execution_count": null,
   "metadata": {},
   "outputs": [],
   "source": [
    "import gurobipy as gp\n",
    "from gurobipy import GRB\n",
    "import copy \n",
    "\n",
    "#Pasos previos\n",
    "#Se copia la instancia\n",
    "instancia=copy.deepcopy(stacks)\n",
    "\n",
    "\n",
    "bp=[]\n",
    "#Se rellenan los vacios.\n",
    "for i in range(len(stacks)):\n",
    "    s=instancia[i]\n",
    "    h=layout.H-len(s)\n",
    "    #Se buscan los items mal colocados unicamente\n",
    "    cont=1\n",
    "    aux=24500\n",
    "    for item in s:\n",
    "        if item <= aux:\n",
    "            aux=item\n",
    "            cont+=1\n",
    "        else:\n",
    "            break\n",
    "    cont+=-1\n",
    "    bp.append(cont)\n",
    "    #El resto se rellena con ceros\n",
    "    #j=0;\n",
    "    #while j<h:\n",
    "    #    s.append(0)\n",
    "    #    j=j+1;\n",
    "\n",
    "\n",
    "#Nueva version simplificada del layout\n",
    "simpl=[]\n",
    "\n",
    "for i in range(len(stacks)):\n",
    "    s=instancia[i]\n",
    "    aux=bp[i]\n",
    "    nuevo=[]\n",
    "    for j in range(aux-1,len(s)):\n",
    "        nuevo.append(s[j])\n",
    "    simpl.append(nuevo)\n",
    "        \n",
    "    \n",
    "    \n",
    "#Se continua con gurobi\n",
    "\n",
    "n = layout.H\n",
    "c = len(instancia)\n",
    "\n",
    "\n",
    "bottom=[]\n",
    "\n",
    "for i in range(len(simpl)):\n",
    "    s=simpl[i]\n",
    "    bottom.append(s[0])\n",
    "    s.pop(0)\n",
    "print(\"Entrada\")    \n",
    "for i in instancia:\n",
    "    print (i)\n",
    "print(\"\\n//****************************************************\\n\")\n",
    "print(\"Problema simplificado\")\n",
    "for i in simpl:\n",
    "    print (i)\n",
    "print(\"\\n\\n\")\n",
    "print(\"base\")\n",
    "print(bottom)\n",
    "\n",
    "\n",
    "#Restricciones\n",
    "\n",
    "#hacia donde se puede mover\n",
    "id=1\n",
    "print(\"\\n//****************************************************\\n\")\n",
    "for i in range(len(simpl)):\n",
    "    s=simpl[i]\n",
    "    if len(s) != 0:\n",
    "        #print(s)\n",
    "        for j in range(len(s)):\n",
    "            #print (s[j])\n",
    "            string=\"\"\n",
    "            for k in range(len(bottom)):\n",
    "                if s[j]<=bottom[k] and k != i:\n",
    "                    string+=\"X\"+str(id)+str(k+1)+\"+\"\n",
    "            string = string[:len(string) - 1]\n",
    "            if len(string)>1:\n",
    "                string+=\"=1\"\n",
    "                print(string)\n",
    "            else:\n",
    "                print(\"No se puede realizar como se desea, so F\")\n",
    "            id+=1\n",
    "print(\"\\n//****************************************************\\n\")\n",
    "for i in range(len(stacks)):\n",
    "    s=stacks[i]\n",
    "    alt=h+1-len(s)\n",
    "    print (\"sum(xi\"+str(i+1)+\")<=\"+str(alt))\n",
    "    \n",
    "print(\"\\n//****************************************************\\n\")\n",
    "\n",
    "\n",
    "#DECLARAMOS EL MODELO\n",
    "model = gp.Model(\"CPMP\")\n",
    "\n",
    "#Se crea una matriz de variables nxc\n",
    "vars = model.addVars(n, c,vtype=GRB.BINARY, name='layout')\n",
    "\n",
    "#Se updatea el modelo, porsiacaso\n",
    "model.update\n",
    "\n",
    "#No hay una funcion objetivo por lo que no se coloca\n",
    "\n",
    "#Constraints]\n",
    "#model.addConstr(x <= 1, name='c0')\n",
    "\n",
    "print (vars[0,0])\n",
    "\n",
    "for i in range(n):\n",
    "    for j in range(c):\n",
    "        model.addConstr(vars[i,j])\n",
    "        \n"
   ]
  },
  {
   "cell_type": "code",
   "execution_count": null,
   "metadata": {},
   "outputs": [],
   "source": []
  }
 ],
 "metadata": {
  "celltoolbar": "Edit Metadata",
  "kernelspec": {
   "display_name": "Python 3",
   "language": "python",
   "name": "python3"
  },
  "language_info": {
   "codemirror_mode": {
    "name": "ipython",
    "version": 3
   },
   "file_extension": ".py",
   "mimetype": "text/x-python",
   "name": "python",
   "nbconvert_exporter": "python",
   "pygments_lexer": "ipython3",
   "version": "3.7.3"
  }
 },
 "nbformat": 4,
 "nbformat_minor": 4
}

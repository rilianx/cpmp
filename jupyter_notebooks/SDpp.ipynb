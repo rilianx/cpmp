{
 "cells": [
  {
   "cell_type": "markdown",
   "metadata": {},
   "source": [
    "Stack Dismantling++\n",
    "==\n",
    "\n",
    "Funciones amigas\n",
    "--\n",
    "\n",
    "* La función `get_ranks` obtiene los rankings de los elementos de un stack, el mayor tiene `rank[mayor]=1`.\n",
    "* La función `fill_stack` coloca n elementos de otros stacks en el stack `s_d`. Solo se colocan elementos si la posición (de arriba hacia abajo) es menor a rank.\n",
    "* La función `capacity` calcula el espacio disponible para colocar los elementos del stack origen como se puede ver en la figura.\n",
    "![sdpp](https://docs.google.com/drawings/d/e/2PACX-1vT77_sIR0wQ_cHxL0DeAMnYtUtks5tTviroSntO8Wp32vo6xn7CD25ZvKRd-gjZvyqavqtjA_mJN0ZX/pub?w=500&h=270)\n",
    "* La función `force_move` (*pixie*) mueve el elemento ubicado en el stack `s_o` y posición `pos` al stack `s_d`. Si el elemento está bloqueado por otros elementos, estos se ubicarán en contenedores temporales `s_tmp`\n",
    "* La función `search_highest` obtiene la ubicación del siguiente elemento que se debería volver a colocar en el stack desmantelado. Para ello se le pasa un rango [c,ub]. La función retorna el contenedor más cercano al top con mayor group_value en el rango dado."
   ]
  },
  {
   "cell_type": "code",
   "execution_count": 1,
   "metadata": {},
   "outputs": [],
   "source": [
    "import Layout\n",
    "import Greedy\n",
    "\n",
    "def get_ranks(stack):\n",
    "    r=1\n",
    "    rank = {}\n",
    "    for i in sorted(stack, reverse=True):\n",
    "        rank[i] = r\n",
    "        r += 1\n",
    "    return rank\n",
    "\n",
    "def fill_stack(layout, s_d, n, ori, rank):\n",
    "    for i in range(n):\n",
    "        s_o = Layout.select_origin_stack(layout, s_d, ori, rank)\n",
    "        layout.move(s_o,s_d)\n",
    "\n",
    "import numpy as np\n",
    "def capacity(layout, s_o):\n",
    "    capacity = 0\n",
    "    for i in range(len(layout.stacks)):\n",
    "        if i==s_o: continue\n",
    "        capacity += layout.H - len(layout.stacks[i])\n",
    "    return capacity            \n",
    "\n",
    "def force_move(layout, s_o, pos, s_d): #pixie\n",
    "    while pos<-1:\n",
    "        s_tmp = Layout.select_destination_stack(layout, s_o, black_list=[s_d])\n",
    "        layout.move(s_o,s_tmp)\n",
    "        pos += 1\n",
    "    return layout.move(s_o,s_d)\n",
    "\n",
    "def search_highest(layout, c, ub, s_d):\n",
    "    ret = None\n",
    "    for pos in range(-1,-10,-1):\n",
    "        max_c = 0\n",
    "        for s in range(len(layout.stacks)):\n",
    "            if s==s_d: continue\n",
    "            ss = layout.stacks[s]\n",
    "            if len(ss) < -pos: continue\n",
    "            if ss[pos]>=c and ss[pos]<=ub and ss[pos]>max_c: \n",
    "                max_c=ss[pos]\n",
    "                ret= (s,pos)\n",
    "        if ret != None: return ret\n",
    "    return None"
   ]
  },
  {
   "cell_type": "markdown",
   "metadata": {},
   "source": [
    "Funciones mágicas\n",
    "--\n",
    "`SDpp` o **Stack Dismantling++**.\n",
    "Esta función desmantela completamente el stack s_o.\n",
    "\n",
    "Para cada elemento:\n",
    "- Selecciona un stack de destino (prefiriendo bien ubicados, pila invertida, con pos<=rank, etc...)\n",
    "- Luego calcula la posición en la que quedará el elemento (pos)\n",
    "- En caso de que pos>rank se pre-llena el stack de destino para que pos=rank\n",
    "- Se realiza el movimiento\n",
    "\n",
    "`SFpp` o **Stack Filling++**.\n",
    "Intenta llenar un stack `s_d` con un máximo de `n` elementos. (Creo que en problemas muy restringidos no es conveniente llenar stack hasta el tope)\n",
    "\n",
    "Para cada elemento r que se sacó previamente de s_d:\n",
    "- Se buscan elementos mayores o iguales a r en zonas altas de los stacks y que pueda ser colocado correctamente en s_d\n",
    "- Si el elemento se encuentra mal ubicado *pixie* aplica un *movimiento forzado* para dejarlo en `s_d`\n",
    "- Si ya no quedan previos se aplica *StackFilling* normal para intentar completar los n elementos."
   ]
  },
  {
   "cell_type": "code",
   "execution_count": 2,
   "metadata": {},
   "outputs": [],
   "source": [
    "def SDpp(layout, s_o, rank):\n",
    "    capac = capacity(layout,s_o) # espacio libre\n",
    "    ss_o = layout.stacks[s_o]\n",
    "    while len(layout.stacks[s_o])>0:\n",
    "        top = Layout.gvalue(ss_o)\n",
    "        slack = capac-len(ss_o) # holgura\n",
    "        s_d = Layout.select_destination_stack (layout, s_o, max_pos=rank[top]+slack)\n",
    "        pos = layout.H - len(layout.stacks[s_d])\n",
    "        if rank[top] < pos - slack:  # rellenar stack s_d\n",
    "            #c=layout.stacks[s_o].pop(-1)\n",
    "            fill_stack(layout, s_d, (pos - slack) - rank[top], s_o, rank)\n",
    "            #layout.stacks[s_o].append(c)\n",
    "\n",
    "        capac -= 1\n",
    "        layout.move(s_o,s_d)\n",
    "        \n",
    "def SFpp(layout, s_d, rank, n=10):\n",
    "    ub = 100\n",
    "    cont = 0\n",
    "    for r in rank:\n",
    "        while True:\n",
    "            (s, pos) = search_highest(layout, r, ub, s_d)\n",
    "            if layout.sorted_elements[s] > len(layout.stacks[s])+pos: break #element is sorted\n",
    "            c=force_move(layout, s, pos, s_d)\n",
    "            ub=r\n",
    "            cont+=1\n",
    "            if cont == n: return\n",
    "            if r==c: break\n",
    "    while cont < n:\n",
    "        Greedy.SF_move_d(layout, s_d)\n",
    "        cont += 1"
   ]
  },
  {
   "cell_type": "markdown",
   "metadata": {},
   "source": [
    "Algunos problemas conocidos\n",
    "----\n",
    "\n",
    "- `SDpp` desmantela completamente el stack\n",
    "- Puede que tenga problemas si hay elementos con el mismo valor (rank es un mapa por lo que considerará uno de los elementos)\n",
    "- Si alguna función no puede hacer su trabajo fallará\n",
    "- El tema de la holgura (slack) hay que revisarlo. Es para instancias donde hay *espacio de sobra* para colocar elmentos"
   ]
  },
  {
   "cell_type": "markdown",
   "metadata": {},
   "source": [
    "Ejemplo exitoso\n",
    "--\n",
    "\n",
    "Creamos el layout de pilas"
   ]
  },
  {
   "cell_type": "code",
   "execution_count": 3,
   "metadata": {},
   "outputs": [],
   "source": [
    "stacks=[[26,20,25,11,19,2,29,58,35,55],\n",
    "[32,16,51,53,30,5,28,9,22,17],\n",
    "[3,57,1,44,39,23,37,33,40,52],\n",
    "[6,54,36,7,10,48,45,34,41,13],\n",
    "[38,12,18,31,15,46,56,42,59,8],\n",
    "[24,14,50,27,47,49,60,21,4,43]]"
   ]
  },
  {
   "cell_type": "code",
   "execution_count": 4,
   "metadata": {},
   "outputs": [],
   "source": [
    "layout = Layout.Layout(stacks, 12) #el numero es la altura máxima"
   ]
  },
  {
   "cell_type": "code",
   "execution_count": 5,
   "metadata": {},
   "outputs": [
    {
     "data": {
      "text/plain": [
       "[[26, 20, 25, 11, 19, 2, 29, 58, 35, 55],\n",
       " [32, 16, 51, 53, 30, 5, 28, 9, 22, 17],\n",
       " [3, 57, 1, 44, 39, 23, 37, 33, 40, 52],\n",
       " [6, 54, 36, 7, 10, 48, 45, 34, 41, 13],\n",
       " [38, 12, 18, 31, 15, 46, 56, 42, 59, 8],\n",
       " [24, 14, 50, 27, 47, 49, 60, 21, 4, 43]]"
      ]
     },
     "execution_count": 5,
     "metadata": {},
     "output_type": "execute_result"
    }
   ],
   "source": [
    "layout.stacks"
   ]
  },
  {
   "cell_type": "code",
   "execution_count": 7,
   "metadata": {},
   "outputs": [
    {
     "ename": "TypeError",
     "evalue": "list indices must be integers or slices, not tuple",
     "output_type": "error",
     "traceback": [
      "\u001b[1;31m---------------------------------------------------------------------------\u001b[0m",
      "\u001b[1;31mTypeError\u001b[0m                                 Traceback (most recent call last)",
      "\u001b[1;32m<ipython-input-7-6927e8ab0f87>\u001b[0m in \u001b[0;36m<module>\u001b[1;34m()\u001b[0m\n\u001b[0;32m      1\u001b[0m \u001b[0ms_o\u001b[0m\u001b[1;33m=\u001b[0m\u001b[1;36m1\u001b[0m\u001b[1;33m\u001b[0m\u001b[1;33m\u001b[0m\u001b[0m\n\u001b[0;32m      2\u001b[0m \u001b[0mrank\u001b[0m \u001b[1;33m=\u001b[0m \u001b[0mget_ranks\u001b[0m\u001b[1;33m(\u001b[0m\u001b[0mlayout\u001b[0m\u001b[1;33m.\u001b[0m\u001b[0mstacks\u001b[0m\u001b[1;33m[\u001b[0m\u001b[0ms_o\u001b[0m\u001b[1;33m]\u001b[0m\u001b[1;33m)\u001b[0m\u001b[1;33m\u001b[0m\u001b[1;33m\u001b[0m\u001b[0m\n\u001b[1;32m----> 3\u001b[1;33m \u001b[0mSDpp\u001b[0m\u001b[1;33m(\u001b[0m\u001b[0mlayout\u001b[0m\u001b[1;33m,\u001b[0m \u001b[0ms_o\u001b[0m\u001b[1;33m,\u001b[0m \u001b[0mrank\u001b[0m\u001b[1;33m)\u001b[0m\u001b[1;33m\u001b[0m\u001b[1;33m\u001b[0m\u001b[0m\n\u001b[0m",
      "\u001b[1;32m<ipython-input-2-2c45296f40a6>\u001b[0m in \u001b[0;36mSDpp\u001b[1;34m(layout, s_o, rank)\u001b[0m\n\u001b[0;32m      6\u001b[0m         \u001b[0mslack\u001b[0m \u001b[1;33m=\u001b[0m \u001b[0mcapac\u001b[0m\u001b[1;33m-\u001b[0m\u001b[0mlen\u001b[0m\u001b[1;33m(\u001b[0m\u001b[0mss_o\u001b[0m\u001b[1;33m)\u001b[0m \u001b[1;31m# holgura\u001b[0m\u001b[1;33m\u001b[0m\u001b[1;33m\u001b[0m\u001b[0m\n\u001b[0;32m      7\u001b[0m         \u001b[0ms_d\u001b[0m \u001b[1;33m=\u001b[0m \u001b[0mLayout\u001b[0m\u001b[1;33m.\u001b[0m\u001b[0mselect_destination_stack\u001b[0m \u001b[1;33m(\u001b[0m\u001b[0mlayout\u001b[0m\u001b[1;33m,\u001b[0m \u001b[0ms_o\u001b[0m\u001b[1;33m,\u001b[0m \u001b[0mmax_pos\u001b[0m\u001b[1;33m=\u001b[0m\u001b[0mrank\u001b[0m\u001b[1;33m[\u001b[0m\u001b[0mtop\u001b[0m\u001b[1;33m]\u001b[0m\u001b[1;33m+\u001b[0m\u001b[0mslack\u001b[0m\u001b[1;33m)\u001b[0m\u001b[1;33m\u001b[0m\u001b[1;33m\u001b[0m\u001b[0m\n\u001b[1;32m----> 8\u001b[1;33m         \u001b[0mpos\u001b[0m \u001b[1;33m=\u001b[0m \u001b[0mlayout\u001b[0m\u001b[1;33m.\u001b[0m\u001b[0mH\u001b[0m \u001b[1;33m-\u001b[0m \u001b[0mlen\u001b[0m\u001b[1;33m(\u001b[0m\u001b[0mlayout\u001b[0m\u001b[1;33m.\u001b[0m\u001b[0mstacks\u001b[0m\u001b[1;33m[\u001b[0m\u001b[0ms_d\u001b[0m\u001b[1;33m]\u001b[0m\u001b[1;33m)\u001b[0m\u001b[1;33m\u001b[0m\u001b[1;33m\u001b[0m\u001b[0m\n\u001b[0m\u001b[0;32m      9\u001b[0m         \u001b[1;32mif\u001b[0m \u001b[0mrank\u001b[0m\u001b[1;33m[\u001b[0m\u001b[0mtop\u001b[0m\u001b[1;33m]\u001b[0m \u001b[1;33m<\u001b[0m \u001b[0mpos\u001b[0m \u001b[1;33m-\u001b[0m \u001b[0mslack\u001b[0m\u001b[1;33m:\u001b[0m  \u001b[1;31m# rellenar stack s_d\u001b[0m\u001b[1;33m\u001b[0m\u001b[1;33m\u001b[0m\u001b[0m\n\u001b[0;32m     10\u001b[0m             \u001b[1;31m#c=layout.stacks[s_o].pop(-1)\u001b[0m\u001b[1;33m\u001b[0m\u001b[1;33m\u001b[0m\u001b[1;33m\u001b[0m\u001b[0m\n",
      "\u001b[1;31mTypeError\u001b[0m: list indices must be integers or slices, not tuple"
     ]
    }
   ],
   "source": [
    "s_o=1\n",
    "rank = get_ranks(layout.stacks[s_o])\n",
    "SDpp(layout, s_o, rank)"
   ]
  },
  {
   "cell_type": "markdown",
   "metadata": {},
   "source": [
    "y aplicamos el algoritmo para desmantelar (SDpp) y volver a armar (SFpp) cada stack"
   ]
  },
  {
   "cell_type": "code",
   "execution_count": 17,
   "metadata": {},
   "outputs": [
    {
     "name": "stdout",
     "output_type": "stream",
     "text": [
      "[]\n",
      "[32, 16, 51, 53, 30, 5, 28, 9, 22, 17, 35, 2]\n",
      "[3, 57, 1, 44, 39, 23, 37, 33, 40, 52, 55, 58]\n",
      "[6, 54, 36, 7, 10, 48, 45, 34, 41, 13, 29, 11]\n",
      "[38, 12, 18, 31, 15, 46, 56, 42, 59, 8, 19, 25]\n",
      "[24, 14, 50, 27, 47, 49, 60, 21, 4, 43, 20, 26]\n",
      "\n",
      "\n",
      "[58, 55, 52, 35, 29, 26, 25, 20, 19, 17]\n",
      "[32, 16, 51, 53, 30, 5, 28, 9, 22]\n",
      "[3, 57, 1, 44, 39, 23, 37, 33, 40, 2, 11]\n",
      "[6, 54, 36, 7, 10, 48, 45, 34, 41, 13]\n",
      "[38, 12, 18, 31, 15, 46, 56, 42, 59, 8]\n",
      "[24, 14, 50, 27, 47, 49, 60, 21, 4, 43]\n",
      "\n",
      "\n",
      "[58, 55, 52, 35, 29, 26, 25, 20, 19, 17, 9, 16]\n",
      "[]\n",
      "[3, 57, 1, 44, 39, 23, 37, 33, 40, 2, 11, 30]\n",
      "[6, 54, 36, 7, 10, 48, 45, 34, 41, 13, 22, 28]\n",
      "[38, 12, 18, 31, 15, 46, 56, 42, 59, 8, 51, 32]\n",
      "[24, 14, 50, 27, 47, 49, 60, 21, 4, 43, 5, 53]\n",
      "\n",
      "\n",
      "[58, 55, 52, 35, 29, 26, 25, 20, 19, 17, 9]\n",
      "[53, 51, 32, 30, 28, 22, 16, 13, 11, 8]\n",
      "[3, 57, 1, 44, 39, 23, 37, 33, 40, 2]\n",
      "[6, 54, 36, 7, 10, 48, 45, 34, 41]\n",
      "[38, 12, 18, 31, 15, 46, 56, 42, 59]\n",
      "[24, 14, 50, 27, 47, 49, 60, 21, 4, 43, 5]\n",
      "\n",
      "\n",
      "[58, 55, 52, 35, 29, 26, 25, 20, 19, 17, 9, 37]\n",
      "[53, 51, 32, 30, 28, 22, 16, 13, 11, 8, 2, 3]\n",
      "[]\n",
      "[6, 54, 36, 7, 10, 48, 45, 34, 41, 23, 39, 44]\n",
      "[38, 12, 18, 31, 15, 46, 56, 42, 59, 1, 33, 57]\n",
      "[24, 14, 50, 27, 47, 49, 60, 21, 4, 43, 5, 40]\n",
      "\n",
      "\n",
      "[58, 55, 52, 35, 29, 26, 25, 20, 19, 17, 9]\n",
      "[53, 51, 32, 30, 28, 22, 16, 13, 11, 8, 2]\n",
      "[57, 44, 40, 39, 37, 33, 23, 5, 3, 1]\n",
      "[6, 54, 36, 7, 10, 48, 45, 34, 41]\n",
      "[38, 12, 18, 31, 15, 46, 56, 42, 59]\n",
      "[24, 14, 50, 27, 47, 49, 60, 21, 4, 43]\n",
      "\n",
      "\n",
      "[58, 55, 52, 35, 29, 26, 25, 20, 19, 17, 9, 10]\n",
      "[53, 51, 32, 30, 28, 22, 16, 13, 11, 8, 2, 34]\n",
      "[57, 44, 40, 39, 37, 33, 23, 5, 3, 1, 41, 7]\n",
      "[]\n",
      "[38, 12, 18, 31, 15, 46, 56, 42, 59, 36, 48, 54]\n",
      "[24, 14, 50, 27, 47, 49, 60, 21, 4, 43, 45, 6]\n",
      "\n",
      "\n",
      "[58, 55, 52, 35, 29, 26, 25, 20, 19, 17, 9]\n",
      "[53, 51, 32, 30, 28, 22, 16, 13, 11, 8, 2]\n",
      "[57, 44, 40, 39, 37, 33, 23, 5, 3, 1]\n",
      "[54, 48, 45, 43, 41, 36, 34, 10, 7, 6]\n",
      "[38, 12, 18, 31, 15, 46, 56, 42, 59]\n",
      "[24, 14, 50, 27, 47, 49, 60, 21, 4]\n",
      "\n",
      "\n",
      "[58, 55, 52, 35, 29, 26, 25, 20, 19, 17, 9, 18]\n",
      "[53, 51, 32, 30, 28, 22, 16, 13, 11, 8, 2, 59]\n",
      "[57, 44, 40, 39, 37, 33, 23, 5, 3, 1, 46, 12]\n",
      "[54, 48, 45, 43, 41, 36, 34, 10, 7, 6, 15, 31]\n",
      "[]\n",
      "[24, 14, 50, 27, 47, 49, 60, 21, 4, 42, 56, 38]\n",
      "\n",
      "\n",
      "[58, 55, 52, 35, 29, 26, 25, 20, 19, 17, 9]\n",
      "[53, 51, 32, 30, 28, 22, 16, 13, 11, 8, 2]\n",
      "[57, 44, 40, 39, 37, 33, 23, 5, 3, 1]\n",
      "[54, 48, 45, 43, 41, 36, 34, 10, 7, 6]\n",
      "[59, 56, 46, 42, 38, 31, 18, 15, 12, 4]\n",
      "[24, 14, 50, 27, 47, 49, 60, 21]\n",
      "\n",
      "\n",
      "[58, 55, 52, 35, 29, 26, 25, 20, 19, 17, 9, 14]\n",
      "[53, 51, 32, 30, 28, 22, 16, 13, 11, 8, 2, 49]\n",
      "[57, 44, 40, 39, 37, 33, 23, 5, 3, 1, 21, 60]\n",
      "[54, 48, 45, 43, 41, 36, 34, 10, 7, 6, 27, 24]\n",
      "[59, 56, 46, 42, 38, 31, 18, 15, 12, 4, 47, 50]\n",
      "[]\n",
      "\n",
      "\n",
      "[58, 55, 52, 35, 29, 26, 25, 20, 19, 17, 9]\n",
      "[53, 51, 32, 30, 28, 22, 16, 13, 11, 8, 2]\n",
      "[57, 44, 40, 39, 37, 33, 23, 5, 3, 1]\n",
      "[54, 48, 45, 43, 41, 36, 34, 10, 7, 6]\n",
      "[59, 56, 46, 42, 38, 31, 18, 15, 12, 4]\n",
      "[60, 50, 49, 47, 27, 24, 21, 14]\n",
      "\n",
      "\n"
     ]
    }
   ],
   "source": [
    "for s_o in range(6):\n",
    "    rank = get_ranks(layout.stacks[s_o])\n",
    "    SDpp(layout, s_o, rank)\n",
    "    for s in layout.stacks:\n",
    "        print(s)\n",
    "    print(\"\\n\")\n",
    "    \n",
    "    SFpp(layout, s_o, rank, 10)\n",
    "    for s in layout.stacks:\n",
    "        print(s)\n",
    "    print(\"\\n\")"
   ]
  },
  {
   "cell_type": "code",
   "execution_count": 19,
   "metadata": {},
   "outputs": [
    {
     "name": "stdout",
     "output_type": "stream",
     "text": [
      "Cantidad de movidas: 127\n"
     ]
    }
   ],
   "source": [
    "print(\"Cantidad de movidas:\",len(layout.moves))"
   ]
  },
  {
   "cell_type": "markdown",
   "metadata": {},
   "source": [
    "**Voilá!**"
   ]
  }
 ],
 "metadata": {
  "kernelspec": {
   "display_name": "Python 3",
   "language": "python",
   "name": "python3"
  },
  "language_info": {
   "codemirror_mode": {
    "name": "ipython",
    "version": 3
   },
   "file_extension": ".py",
   "mimetype": "text/x-python",
   "name": "python",
   "nbconvert_exporter": "python",
   "pygments_lexer": "ipython3",
   "version": "3.7.3"
  }
 },
 "nbformat": 4,
 "nbformat_minor": 4
}

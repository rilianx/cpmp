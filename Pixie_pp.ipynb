{
 "cells": [
  {
   "cell_type": "code",
   "execution_count": 420,
   "metadata": {},
   "outputs": [],
   "source": [
    "import numpy as np\n",
    "import importlib\n",
    "import Layout\n",
    "import Greedy\n",
    "\n",
    "import copy \n",
    "\n",
    "#Reset libreria\n",
    "importlib.reload(px)\n",
    "importlib.reload(Greedy)\n",
    "importlib.reload(Layout)\n",
    "\n",
    "def showtime2(path):\n",
    "    layout=px.read(path)\n",
    "    #print (\"Estado inicial: \")\n",
    "    #for s in layout.stacks:\n",
    "    #    print(s)\n",
    "    #print()\n",
    "    seleccionada = SSRC(layout)\n",
    " \n",
    "    while seleccionada != -1:\n",
    "        if verbose:\n",
    "            for s in layout.stacks: print(s)\n",
    "            print(\"\\n\")\n",
    "        \n",
    "        #Se calcula cuantos contenedores deben retirarse\n",
    "        columna=copy.deepcopy(layout.stacks[seleccionada])\n",
    "        nb_unsorted_elements = px.remove_until(columna)\n",
    "\n",
    "        #Se calculan los ranks\n",
    "        rank = Greedy.get_ranks(layout.stacks[seleccionada])\n",
    "        if verbose: print(\"selected:\",layout.stacks[seleccionada])\n",
    "\n",
    "        #Se retiran los elementos de la columna\n",
    "        SDpp(layout, seleccionada, rank, nb_unsorted_elements)\n",
    "        \n",
    "        if verbose:\n",
    "            for s in layout.stacks: print(s)\n",
    "            print(\"\\n\")\n",
    "\n",
    "        #Se quitan los contenedores que se mantuvieron en su lugar para que no tire error la siguiente funcion\n",
    "        for item in layout.stacks[seleccionada]:\n",
    "            rank.pop(item, None)\n",
    "\n",
    "        #print(nb_unsorted_elements)\n",
    "        SFpp(layout,seleccionada,rank, layout.H-len(layout.stacks[seleccionada]) )#nb_unsorted_elements)\n",
    "\n",
    "        #Se vuelve a seleccionar una columna\n",
    "        seleccionada = SSRC(layout)\n",
    "\n",
    "    #print(\"SELECCIONADA:\", seleccionada)\n",
    "    #print(len(layout.moves),\"\\t\",layout.unsorted_stacks)\n",
    "    if verbose: \n",
    "        for s in layout.stacks: print(s)\n",
    "    return len(layout.moves)\n",
    "    #print()"
   ]
  },
  {
   "cell_type": "code",
   "execution_count": 452,
   "metadata": {},
   "outputs": [],
   "source": [
    "#selector de columnas a desmantelar\n",
    "def SSRC(layout):\n",
    "    best_ev = 0; s_o=-1\n",
    "    for i in range(len(layout.stacks)):\n",
    "        if layout.is_sorted_stack(i): continue\n",
    "        prom = sum(layout.stacks[i]) / len(layout.stacks[i]) \n",
    "        ev = 10000 - 100*len(layout.stacks[i]) - prom\n",
    "\n",
    "        if ev > best_ev:\n",
    "            best_ev = ev\n",
    "            s_o = i\n",
    "    return s_o"
   ]
  },
  {
   "cell_type": "code",
   "execution_count": 382,
   "metadata": {},
   "outputs": [],
   "source": [
    "def SDpp(layout, s_o, rank, n_elements=100):\n",
    "    capac = Greedy.capacity(layout,s_o) # espacio libre\n",
    "    \n",
    "    ss_o = layout.stacks[s_o]\n",
    "    \n",
    "    fixed_elements = np.maximum(len(ss_o)-n_elements,0)\n",
    "    \n",
    "    while len(layout.stacks[s_o]) > fixed_elements:\n",
    "        top = Layout.gvalue(ss_o)\n",
    "        slack = capac-len(ss_o) # holgura\n",
    "        #print(rank[top])\n",
    "        s_d = Layout.select_destination_stack (layout, s_o, max_pos=rank[top]+slack)\n",
    "        pos = layout.H - len(layout.stacks[s_d])\n",
    "        if rank[top] < pos - slack:  # rellenar stack s_d\n",
    "            #c=layout.stacks[s_o].pop(-1)\n",
    "            if verbose: \n",
    "                for s in layout.stacks: print(s)\n",
    "                print(s_d,(pos - slack) - rank[top],s_o, rank)\n",
    "            Greedy.fill_stack(layout, s_d, (pos - slack) - rank[top], s_o, rank)\n",
    "            #layout.stacks[s_o].append(c)\n",
    "\n",
    "        capac -= 1\n",
    "        layout.move(s_o,s_d)"
   ]
  },
  {
   "cell_type": "code",
   "execution_count": 450,
   "metadata": {},
   "outputs": [],
   "source": [
    "import sys\n",
    "def SFpp(layout, s_d, rank, n):\n",
    "    ub = Layout.gvalue(layout.stacks[s_d])\n",
    "    cont = 0\n",
    "    for r in rank:\n",
    "        while True:\n",
    "            (s, pos) = Greedy.search_highest(layout, r, ub, s_d)  \n",
    "            #if verbose:\n",
    "                #print(\"r,ub:\",r,ub)\n",
    "                #print(layout.stacks[s][pos])\n",
    "                \n",
    "            if layout.sorted_elements[s] > len(layout.stacks[s])+pos: break #element is sorted\n",
    "            ub=layout.stacks[s][pos]-1\n",
    "            \n",
    "            c=Greedy.force_move(layout, s, pos, s_d)\n",
    "            \n",
    "            \n",
    "            if c == None:    \n",
    "                if ub<r: \n",
    "                    for stack in layout.stacks:\n",
    "                        print(stack)\n",
    "                    print(str(ub+1)+ \" del stack \" +str(s)+ \" no se puede volver a colocar en \"+str(s_d)+\"!!\");\n",
    "                    sys.exit()\n",
    "            else: \n",
    "                cont+=1\n",
    "                if cont == n: return\n",
    "                if r==c: break\n",
    "    while cont < n:\n",
    "        Greedy.SF_move_d(layout, s_d)\n",
    "        cont += 1"
   ]
  },
  {
   "cell_type": "code",
   "execution_count": 453,
   "metadata": {},
   "outputs": [
    {
     "name": "stdout",
     "output_type": "stream",
     "text": [
      "10-10 165.4\n",
      "10-6 127.35\n",
      "3-3 13.375\n",
      "3-4 13.55\n",
      "3-5 14.45\n",
      "3-6 15.475\n",
      "3-7 17.625\n",
      "3-8 17.875\n",
      "4-4 23.9\n",
      "4-5 26.725\n",
      "4-6 27.375\n",
      "4-7 31.85\n",
      "5-10 60.05\n",
      "5-4 36.1\n",
      "5-5 37.55\n",
      "5-6 42.675\n",
      "5-7 45.3\n",
      "5-8 51.6\n",
      "5-9 55.0\n",
      "6-10 77.525\n",
      "6-6 56.85\n"
     ]
    }
   ],
   "source": [
    "import Greedy as gr\n",
    "import importlib\n",
    "importlib.reload(Greedy)\n",
    "from os import listdir\n",
    "from os.path import isfile, join\n",
    "onlyfiles = [f for f in listdir(\"Instancias\") if not isfile(join(\"Instancias\", f))]\n",
    "\n",
    "verbose = False\n",
    "for f in onlyfiles:\n",
    "    if f == 'BF' or f== '3-x' : continue\n",
    "    #print(f)\n",
    "    nmoves=0\n",
    "    for i in range(1,41):\n",
    "        filename = \"Instancias/\"+ f+ \"/data\"+f+\"-\"+str(i)+\".dat\"\n",
    "        nmoves += showtime2(filename)    \n",
    "    print (f,nmoves/ 40.0);"
   ]
  },
  {
   "cell_type": "markdown",
   "metadata": {},
   "source": [
    "![image](https://i.imgur.com/XsBW9YR.png)"
   ]
  },
  {
   "cell_type": "code",
   "execution_count": 459,
   "metadata": {},
   "outputs": [
    {
     "name": "stdout",
     "output_type": "stream",
     "text": [
      "[1, 8, 5]\n",
      "[6, 4, 9]\n",
      "[2, 3, 7]\n",
      "\n",
      "\n",
      "selected: [2, 3, 7]\n",
      "[1, 8, 5, 7, 3]\n",
      "[6, 4, 9, 2]\n",
      "[]\n",
      "\n",
      "\n",
      "[1, 8]\n",
      "[6, 4, 9]\n",
      "[7, 5, 3, 2]\n",
      "\n",
      "\n",
      "selected: [1, 8]\n",
      "[]\n",
      "[6, 4, 9, 1]\n",
      "[7, 5, 3, 2, 8]\n",
      "\n",
      "\n",
      "[8, 1]\n",
      "[6, 4, 9]\n",
      "[7, 5, 3, 2]\n",
      "\n",
      "\n",
      "selected: [6, 4, 9]\n",
      "[8, 1, 4, 6]\n",
      "[]\n",
      "[7, 5, 3, 2, 9]\n",
      "\n",
      "\n",
      "[8, 1]\n",
      "[9, 6, 4]\n",
      "[7, 5, 3, 2]\n"
     ]
    },
    {
     "data": {
      "text/plain": [
       "18"
      ]
     },
     "execution_count": 459,
     "metadata": {},
     "output_type": "execute_result"
    }
   ],
   "source": [
    "verbose = True\n",
    "showtime2(\"Instancias/3-3/data3-3-9.dat\")   "
   ]
  },
  {
   "cell_type": "code",
   "execution_count": null,
   "metadata": {},
   "outputs": [],
   "source": []
  }
 ],
 "metadata": {
  "kernelspec": {
   "display_name": "Python 3",
   "language": "python",
   "name": "python3"
  },
  "language_info": {
   "codemirror_mode": {
    "name": "ipython",
    "version": 3
   },
   "file_extension": ".py",
   "mimetype": "text/x-python",
   "name": "python",
   "nbconvert_exporter": "python",
   "pygments_lexer": "ipython3",
   "version": "3.7.3"
  }
 },
 "nbformat": 4,
 "nbformat_minor": 4
}

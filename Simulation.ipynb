{
 "cells": [
  {
   "cell_type": "code",
   "execution_count": 1,
   "metadata": {},
   "outputs": [],
   "source": [
    "import Layout\n",
    "import Greedy\n",
    "import copy"
   ]
  },
  {
   "cell_type": "code",
   "execution_count": 2,
   "metadata": {},
   "outputs": [],
   "source": [
    "layout0 = Layout.read_file(\"cpmp_16_8_77_16_58_1.bay\", 8)"
   ]
  },
  {
   "cell_type": "code",
   "execution_count": 3,
   "metadata": {},
   "outputs": [
    {
     "data": {
      "text/plain": [
       "62"
      ]
     },
     "execution_count": 3,
     "metadata": {},
     "output_type": "execute_result"
    }
   ],
   "source": [
    "layout = copy.deepcopy(layout0)\n",
    "Greedy.simulation(layout, [3,0,0,1,1,0,1,2,3,4,0,1,0,0,0,0,1])"
   ]
  },
  {
   "cell_type": "code",
   "execution_count": 27,
   "metadata": {},
   "outputs": [],
   "source": [
    "import random\n",
    "\n",
    "def hill_climbing(layout0, initial):\n",
    "    v = initial\n",
    "    layout = copy.deepcopy(layout0)\n",
    "    min_steps = Greedy.simulation(layout, v)\n",
    "    print(min_steps)\n",
    "    no_improvements = 0\n",
    "    while no_improvements<500:\n",
    "        i = random.randrange(len(v))\n",
    "        old_value = v[i]\n",
    "        if random.random() > 0.5 or v[i]==0: v[i] +=1\n",
    "        else: v[i] -=1\n",
    "        \n",
    "        layout = copy.deepcopy(layout0)\n",
    "        steps = Greedy.simulation(layout, v)\n",
    "        \n",
    "\n",
    "        if steps!=False and steps < min_steps:\n",
    "            print(steps)\n",
    "            min_steps = steps\n",
    "            no_improvements = 0\n",
    "        else:\n",
    "            if steps==False or steps>min_steps: v[i]= old_value\n",
    "            no_improvements += 1\n",
    "            \n",
    "    return min_steps, v"
   ]
  },
  {
   "cell_type": "code",
   "execution_count": 39,
   "metadata": {},
   "outputs": [
    {
     "name": "stdout",
     "output_type": "stream",
     "text": [
      "64\n",
      "63\n"
     ]
    },
    {
     "data": {
      "text/plain": [
       "(63, array([2, 0, 2, 0, 3, 1, 4, 0, 2, 0, 3, 1, 2, 3, 1, 2, 2, 3, 1, 1, 1, 0,\n",
       "        5, 2, 1, 0, 2, 1, 0, 2, 2, 0, 0, 7, 1, 1, 3, 1, 2, 1, 2, 3, 4, 3,\n",
       "        3, 0, 1, 2, 1, 1]))"
      ]
     },
     "execution_count": 39,
     "metadata": {},
     "output_type": "execute_result"
    }
   ],
   "source": [
    "import numpy as np\n",
    "hill_climbing(layout0, np.random.randint(3, size=50))"
   ]
  },
  {
   "cell_type": "code",
   "execution_count": null,
   "metadata": {},
   "outputs": [],
   "source": []
  }
 ],
 "metadata": {
  "kernelspec": {
   "display_name": "Python 3",
   "language": "python",
   "name": "python3"
  },
  "language_info": {
   "codemirror_mode": {
    "name": "ipython",
    "version": 3
   },
   "file_extension": ".py",
   "mimetype": "text/x-python",
   "name": "python",
   "nbconvert_exporter": "python",
   "pygments_lexer": "ipython3",
   "version": "3.7.3"
  }
 },
 "nbformat": 4,
 "nbformat_minor": 4
}
